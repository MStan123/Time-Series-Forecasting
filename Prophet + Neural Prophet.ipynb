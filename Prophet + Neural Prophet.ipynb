{
 "cells": [
  {
   "cell_type": "code",
   "execution_count": 3,
   "id": "0f18bbb6-ef50-4b0a-b798-7bfc79837b4e",
   "metadata": {},
   "outputs": [],
   "source": [
    "import warnings\n",
    "import itertools\n",
    "import numpy as np\n",
    "import matplotlib.pyplot as plt\n",
    "warnings.filterwarnings(\"ignore\")\n",
    "plt.style.use('fivethirtyeight')\n",
    "import pandas as pd\n",
    "import matplotlib.pyplot as plt\n",
    "from prophet import Prophet"
   ]
  },
  {
   "cell_type": "code",
   "execution_count": 5,
   "id": "d08baa02-ad10-4e53-950e-cd783c9c6dc9",
   "metadata": {},
   "outputs": [],
   "source": [
    "df = pd.read_csv('wiki_machine_learning.csv', sep = ' ')"
   ]
  },
  {
   "cell_type": "code",
   "execution_count": 7,
   "id": "51f2be58-0e0b-40ec-8e22-74893d2c9293",
   "metadata": {},
   "outputs": [
    {
     "data": {
      "text/html": [
       "<div>\n",
       "<style scoped>\n",
       "    .dataframe tbody tr th:only-of-type {\n",
       "        vertical-align: middle;\n",
       "    }\n",
       "\n",
       "    .dataframe tbody tr th {\n",
       "        vertical-align: top;\n",
       "    }\n",
       "\n",
       "    .dataframe thead th {\n",
       "        text-align: right;\n",
       "    }\n",
       "</style>\n",
       "<table border=\"1\" class=\"dataframe\">\n",
       "  <thead>\n",
       "    <tr style=\"text-align: right;\">\n",
       "      <th></th>\n",
       "      <th>date</th>\n",
       "      <th>count</th>\n",
       "      <th>lang</th>\n",
       "      <th>page</th>\n",
       "      <th>rank</th>\n",
       "      <th>month</th>\n",
       "      <th>title</th>\n",
       "    </tr>\n",
       "  </thead>\n",
       "  <tbody>\n",
       "    <tr>\n",
       "      <th>81</th>\n",
       "      <td>2015-01-01</td>\n",
       "      <td>1414</td>\n",
       "      <td>en</td>\n",
       "      <td>Machine_learning</td>\n",
       "      <td>8708</td>\n",
       "      <td>201501</td>\n",
       "      <td>Machine_learning</td>\n",
       "    </tr>\n",
       "    <tr>\n",
       "      <th>80</th>\n",
       "      <td>2015-01-02</td>\n",
       "      <td>1920</td>\n",
       "      <td>en</td>\n",
       "      <td>Machine_learning</td>\n",
       "      <td>8708</td>\n",
       "      <td>201501</td>\n",
       "      <td>Machine_learning</td>\n",
       "    </tr>\n",
       "    <tr>\n",
       "      <th>79</th>\n",
       "      <td>2015-01-03</td>\n",
       "      <td>1338</td>\n",
       "      <td>en</td>\n",
       "      <td>Machine_learning</td>\n",
       "      <td>8708</td>\n",
       "      <td>201501</td>\n",
       "      <td>Machine_learning</td>\n",
       "    </tr>\n",
       "    <tr>\n",
       "      <th>78</th>\n",
       "      <td>2015-01-04</td>\n",
       "      <td>1404</td>\n",
       "      <td>en</td>\n",
       "      <td>Machine_learning</td>\n",
       "      <td>8708</td>\n",
       "      <td>201501</td>\n",
       "      <td>Machine_learning</td>\n",
       "    </tr>\n",
       "    <tr>\n",
       "      <th>77</th>\n",
       "      <td>2015-01-05</td>\n",
       "      <td>2264</td>\n",
       "      <td>en</td>\n",
       "      <td>Machine_learning</td>\n",
       "      <td>8708</td>\n",
       "      <td>201501</td>\n",
       "      <td>Machine_learning</td>\n",
       "    </tr>\n",
       "    <tr>\n",
       "      <th>...</th>\n",
       "      <td>...</td>\n",
       "      <td>...</td>\n",
       "      <td>...</td>\n",
       "      <td>...</td>\n",
       "      <td>...</td>\n",
       "      <td>...</td>\n",
       "      <td>...</td>\n",
       "    </tr>\n",
       "    <tr>\n",
       "      <th>382</th>\n",
       "      <td>2016-01-16</td>\n",
       "      <td>1644</td>\n",
       "      <td>en</td>\n",
       "      <td>Machine_learning</td>\n",
       "      <td>8708</td>\n",
       "      <td>201601</td>\n",
       "      <td>Machine_learning</td>\n",
       "    </tr>\n",
       "    <tr>\n",
       "      <th>381</th>\n",
       "      <td>2016-01-17</td>\n",
       "      <td>1836</td>\n",
       "      <td>en</td>\n",
       "      <td>Machine_learning</td>\n",
       "      <td>8708</td>\n",
       "      <td>201601</td>\n",
       "      <td>Machine_learning</td>\n",
       "    </tr>\n",
       "    <tr>\n",
       "      <th>376</th>\n",
       "      <td>2016-01-18</td>\n",
       "      <td>2983</td>\n",
       "      <td>en</td>\n",
       "      <td>Machine_learning</td>\n",
       "      <td>8708</td>\n",
       "      <td>201601</td>\n",
       "      <td>Machine_learning</td>\n",
       "    </tr>\n",
       "    <tr>\n",
       "      <th>375</th>\n",
       "      <td>2016-01-19</td>\n",
       "      <td>3389</td>\n",
       "      <td>en</td>\n",
       "      <td>Machine_learning</td>\n",
       "      <td>8708</td>\n",
       "      <td>201601</td>\n",
       "      <td>Machine_learning</td>\n",
       "    </tr>\n",
       "    <tr>\n",
       "      <th>372</th>\n",
       "      <td>2016-01-20</td>\n",
       "      <td>3559</td>\n",
       "      <td>en</td>\n",
       "      <td>Machine_learning</td>\n",
       "      <td>8708</td>\n",
       "      <td>201601</td>\n",
       "      <td>Machine_learning</td>\n",
       "    </tr>\n",
       "  </tbody>\n",
       "</table>\n",
       "<p>384 rows × 7 columns</p>\n",
       "</div>"
      ],
      "text/plain": [
       "           date  count lang              page  rank   month             title\n",
       "81   2015-01-01   1414   en  Machine_learning  8708  201501  Machine_learning\n",
       "80   2015-01-02   1920   en  Machine_learning  8708  201501  Machine_learning\n",
       "79   2015-01-03   1338   en  Machine_learning  8708  201501  Machine_learning\n",
       "78   2015-01-04   1404   en  Machine_learning  8708  201501  Machine_learning\n",
       "77   2015-01-05   2264   en  Machine_learning  8708  201501  Machine_learning\n",
       "..          ...    ...  ...               ...   ...     ...               ...\n",
       "382  2016-01-16   1644   en  Machine_learning  8708  201601  Machine_learning\n",
       "381  2016-01-17   1836   en  Machine_learning  8708  201601  Machine_learning\n",
       "376  2016-01-18   2983   en  Machine_learning  8708  201601  Machine_learning\n",
       "375  2016-01-19   3389   en  Machine_learning  8708  201601  Machine_learning\n",
       "372  2016-01-20   3559   en  Machine_learning  8708  201601  Machine_learning\n",
       "\n",
       "[384 rows x 7 columns]"
      ]
     },
     "execution_count": 7,
     "metadata": {},
     "output_type": "execute_result"
    }
   ],
   "source": [
    "df"
   ]
  },
  {
   "cell_type": "code",
   "execution_count": 9,
   "id": "ac5b51ac-dde1-4968-bb33-ec1c33fc067f",
   "metadata": {},
   "outputs": [
    {
     "data": {
      "text/plain": [
       "('2015-01-01', '2016-01-20')"
      ]
     },
     "execution_count": 9,
     "metadata": {},
     "output_type": "execute_result"
    }
   ],
   "source": [
    "df['date'].min(), df['date'].max()"
   ]
  },
  {
   "cell_type": "code",
   "execution_count": 11,
   "id": "e6d36a71-c2a3-4b5d-b410-cdb4d00b81a2",
   "metadata": {},
   "outputs": [
    {
     "data": {
      "text/plain": [
       "date     0\n",
       "count    0\n",
       "lang     0\n",
       "page     0\n",
       "rank     0\n",
       "month    0\n",
       "title    0\n",
       "dtype: int64"
      ]
     },
     "execution_count": 11,
     "metadata": {},
     "output_type": "execute_result"
    }
   ],
   "source": [
    "df.isnull().sum()"
   ]
  },
  {
   "cell_type": "code",
   "execution_count": 13,
   "id": "762c59eb-8e68-48f8-8429-08658989a105",
   "metadata": {},
   "outputs": [],
   "source": [
    "cols = ['lang', 'page', 'rank', 'month', 'title']\n",
    "df.drop(cols, axis=1, inplace=True)\n",
    "df = df.sort_values('date')"
   ]
  },
  {
   "cell_type": "code",
   "execution_count": 15,
   "id": "6a9c5ae0-7d57-4405-9a8b-11280da21e9e",
   "metadata": {},
   "outputs": [
    {
     "data": {
      "text/html": [
       "<div>\n",
       "<style scoped>\n",
       "    .dataframe tbody tr th:only-of-type {\n",
       "        vertical-align: middle;\n",
       "    }\n",
       "\n",
       "    .dataframe tbody tr th {\n",
       "        vertical-align: top;\n",
       "    }\n",
       "\n",
       "    .dataframe thead th {\n",
       "        text-align: right;\n",
       "    }\n",
       "</style>\n",
       "<table border=\"1\" class=\"dataframe\">\n",
       "  <thead>\n",
       "    <tr style=\"text-align: right;\">\n",
       "      <th></th>\n",
       "      <th>date</th>\n",
       "      <th>count</th>\n",
       "    </tr>\n",
       "  </thead>\n",
       "  <tbody>\n",
       "    <tr>\n",
       "      <th>81</th>\n",
       "      <td>2015-01-01</td>\n",
       "      <td>1414</td>\n",
       "    </tr>\n",
       "    <tr>\n",
       "      <th>80</th>\n",
       "      <td>2015-01-02</td>\n",
       "      <td>1920</td>\n",
       "    </tr>\n",
       "    <tr>\n",
       "      <th>79</th>\n",
       "      <td>2015-01-03</td>\n",
       "      <td>1338</td>\n",
       "    </tr>\n",
       "    <tr>\n",
       "      <th>78</th>\n",
       "      <td>2015-01-04</td>\n",
       "      <td>1404</td>\n",
       "    </tr>\n",
       "    <tr>\n",
       "      <th>77</th>\n",
       "      <td>2015-01-05</td>\n",
       "      <td>2264</td>\n",
       "    </tr>\n",
       "    <tr>\n",
       "      <th>...</th>\n",
       "      <td>...</td>\n",
       "      <td>...</td>\n",
       "    </tr>\n",
       "    <tr>\n",
       "      <th>382</th>\n",
       "      <td>2016-01-16</td>\n",
       "      <td>1644</td>\n",
       "    </tr>\n",
       "    <tr>\n",
       "      <th>381</th>\n",
       "      <td>2016-01-17</td>\n",
       "      <td>1836</td>\n",
       "    </tr>\n",
       "    <tr>\n",
       "      <th>376</th>\n",
       "      <td>2016-01-18</td>\n",
       "      <td>2983</td>\n",
       "    </tr>\n",
       "    <tr>\n",
       "      <th>375</th>\n",
       "      <td>2016-01-19</td>\n",
       "      <td>3389</td>\n",
       "    </tr>\n",
       "    <tr>\n",
       "      <th>372</th>\n",
       "      <td>2016-01-20</td>\n",
       "      <td>3559</td>\n",
       "    </tr>\n",
       "  </tbody>\n",
       "</table>\n",
       "<p>384 rows × 2 columns</p>\n",
       "</div>"
      ],
      "text/plain": [
       "           date  count\n",
       "81   2015-01-01   1414\n",
       "80   2015-01-02   1920\n",
       "79   2015-01-03   1338\n",
       "78   2015-01-04   1404\n",
       "77   2015-01-05   2264\n",
       "..          ...    ...\n",
       "382  2016-01-16   1644\n",
       "381  2016-01-17   1836\n",
       "376  2016-01-18   2983\n",
       "375  2016-01-19   3389\n",
       "372  2016-01-20   3559\n",
       "\n",
       "[384 rows x 2 columns]"
      ]
     },
     "execution_count": 15,
     "metadata": {},
     "output_type": "execute_result"
    }
   ],
   "source": [
    "df"
   ]
  },
  {
   "cell_type": "code",
   "execution_count": 17,
   "id": "f0648b12-8435-4d30-9165-bb551b0394b3",
   "metadata": {},
   "outputs": [],
   "source": [
    "df = df.rename(columns={'date': 'ds', 'count': 'y'})"
   ]
  },
  {
   "cell_type": "code",
   "execution_count": 19,
   "id": "a79fc7e6-2556-44ac-b9e6-359c1a61aa57",
   "metadata": {},
   "outputs": [],
   "source": [
    "df = df.groupby('ds')['y'].sum().reset_index()"
   ]
  },
  {
   "cell_type": "code",
   "execution_count": 21,
   "id": "5d47a679-537d-4fb1-a72e-ed23d528998d",
   "metadata": {},
   "outputs": [
    {
     "data": {
      "text/html": [
       "<div>\n",
       "<style scoped>\n",
       "    .dataframe tbody tr th:only-of-type {\n",
       "        vertical-align: middle;\n",
       "    }\n",
       "\n",
       "    .dataframe tbody tr th {\n",
       "        vertical-align: top;\n",
       "    }\n",
       "\n",
       "    .dataframe thead th {\n",
       "        text-align: right;\n",
       "    }\n",
       "</style>\n",
       "<table border=\"1\" class=\"dataframe\">\n",
       "  <thead>\n",
       "    <tr style=\"text-align: right;\">\n",
       "      <th></th>\n",
       "      <th>ds</th>\n",
       "      <th>y</th>\n",
       "    </tr>\n",
       "  </thead>\n",
       "  <tbody>\n",
       "    <tr>\n",
       "      <th>0</th>\n",
       "      <td>2015-01-01</td>\n",
       "      <td>1414</td>\n",
       "    </tr>\n",
       "    <tr>\n",
       "      <th>1</th>\n",
       "      <td>2015-01-02</td>\n",
       "      <td>1920</td>\n",
       "    </tr>\n",
       "    <tr>\n",
       "      <th>2</th>\n",
       "      <td>2015-01-03</td>\n",
       "      <td>1338</td>\n",
       "    </tr>\n",
       "    <tr>\n",
       "      <th>3</th>\n",
       "      <td>2015-01-04</td>\n",
       "      <td>1404</td>\n",
       "    </tr>\n",
       "    <tr>\n",
       "      <th>4</th>\n",
       "      <td>2015-01-05</td>\n",
       "      <td>2264</td>\n",
       "    </tr>\n",
       "    <tr>\n",
       "      <th>...</th>\n",
       "      <td>...</td>\n",
       "      <td>...</td>\n",
       "    </tr>\n",
       "    <tr>\n",
       "      <th>379</th>\n",
       "      <td>2016-01-16</td>\n",
       "      <td>1644</td>\n",
       "    </tr>\n",
       "    <tr>\n",
       "      <th>380</th>\n",
       "      <td>2016-01-17</td>\n",
       "      <td>1836</td>\n",
       "    </tr>\n",
       "    <tr>\n",
       "      <th>381</th>\n",
       "      <td>2016-01-18</td>\n",
       "      <td>2983</td>\n",
       "    </tr>\n",
       "    <tr>\n",
       "      <th>382</th>\n",
       "      <td>2016-01-19</td>\n",
       "      <td>3389</td>\n",
       "    </tr>\n",
       "    <tr>\n",
       "      <th>383</th>\n",
       "      <td>2016-01-20</td>\n",
       "      <td>3559</td>\n",
       "    </tr>\n",
       "  </tbody>\n",
       "</table>\n",
       "<p>384 rows × 2 columns</p>\n",
       "</div>"
      ],
      "text/plain": [
       "             ds     y\n",
       "0    2015-01-01  1414\n",
       "1    2015-01-02  1920\n",
       "2    2015-01-03  1338\n",
       "3    2015-01-04  1404\n",
       "4    2015-01-05  2264\n",
       "..          ...   ...\n",
       "379  2016-01-16  1644\n",
       "380  2016-01-17  1836\n",
       "381  2016-01-18  2983\n",
       "382  2016-01-19  3389\n",
       "383  2016-01-20  3559\n",
       "\n",
       "[384 rows x 2 columns]"
      ]
     },
     "execution_count": 21,
     "metadata": {},
     "output_type": "execute_result"
    }
   ],
   "source": [
    "df"
   ]
  },
  {
   "cell_type": "code",
   "execution_count": 23,
   "id": "0b34c622-12ee-422a-b5a4-c911312daefd",
   "metadata": {},
   "outputs": [
    {
     "data": {
      "image/png": "[encoded data removed]",
      "text/plain": [
       "<Figure size 2000x800 with 1 Axes>"
      ]
     },
     "metadata": {},
     "output_type": "display_data"
    }
   ],
   "source": [
    "df.plot(x='ds',y='y', figsize=(20, 8))\n",
    "plt.show()"
   ]
  },
  {
   "cell_type": "markdown",
   "id": "f355a434-a377-4e4c-b558-c0b3ad75972a",
   "metadata": {},
   "source": [
    "## Facebook Prophet"
   ]
  },
  {
   "cell_type": "code",
   "execution_count": 39,
   "id": "8eda16e0-baf9-4835-b58a-2f6bc6a0b23b",
   "metadata": {},
   "outputs": [
    {
     "name": "stderr",
     "output_type": "stream",
     "text": [
      "00:42:54 - cmdstanpy - INFO - Chain [1] start processing\n",
      "00:42:55 - cmdstanpy - INFO - Chain [1] done processing\n"
     ]
    },
    {
     "data": {
      "text/plain": [
       "<prophet.forecaster.Prophet at 0x1f0363f6450>"
      ]
     },
     "execution_count": 39,
     "metadata": {},
     "output_type": "execute_result"
    }
   ],
   "source": [
    "wiki_model = Prophet(interval_width=0.95)\n",
    "wiki_model.fit(df)"
   ]
  },
  {
   "cell_type": "code",
   "execution_count": 41,
   "id": "ade6a74a-c10f-4c77-abc6-8aac211d60fc",
   "metadata": {},
   "outputs": [
    {
     "data": {
      "text/html": [
       "<div>\n",
       "<style scoped>\n",
       "    .dataframe tbody tr th:only-of-type {\n",
       "        vertical-align: middle;\n",
       "    }\n",
       "\n",
       "    .dataframe tbody tr th {\n",
       "        vertical-align: top;\n",
       "    }\n",
       "\n",
       "    .dataframe thead th {\n",
       "        text-align: right;\n",
       "    }\n",
       "</style>\n",
       "<table border=\"1\" class=\"dataframe\">\n",
       "  <thead>\n",
       "    <tr style=\"text-align: right;\">\n",
       "      <th></th>\n",
       "      <th>ds</th>\n",
       "    </tr>\n",
       "  </thead>\n",
       "  <tbody>\n",
       "    <tr>\n",
       "      <th>0</th>\n",
       "      <td>2016-01-21</td>\n",
       "    </tr>\n",
       "    <tr>\n",
       "      <th>1</th>\n",
       "      <td>2016-01-22</td>\n",
       "    </tr>\n",
       "    <tr>\n",
       "      <th>2</th>\n",
       "      <td>2016-01-23</td>\n",
       "    </tr>\n",
       "    <tr>\n",
       "      <th>3</th>\n",
       "      <td>2016-01-24</td>\n",
       "    </tr>\n",
       "    <tr>\n",
       "      <th>4</th>\n",
       "      <td>2016-01-25</td>\n",
       "    </tr>\n",
       "    <tr>\n",
       "      <th>5</th>\n",
       "      <td>2016-01-26</td>\n",
       "    </tr>\n",
       "    <tr>\n",
       "      <th>6</th>\n",
       "      <td>2016-01-27</td>\n",
       "    </tr>\n",
       "    <tr>\n",
       "      <th>7</th>\n",
       "      <td>2016-01-28</td>\n",
       "    </tr>\n",
       "    <tr>\n",
       "      <th>8</th>\n",
       "      <td>2016-01-29</td>\n",
       "    </tr>\n",
       "    <tr>\n",
       "      <th>9</th>\n",
       "      <td>2016-01-30</td>\n",
       "    </tr>\n",
       "    <tr>\n",
       "      <th>10</th>\n",
       "      <td>2016-01-31</td>\n",
       "    </tr>\n",
       "    <tr>\n",
       "      <th>11</th>\n",
       "      <td>2016-02-01</td>\n",
       "    </tr>\n",
       "    <tr>\n",
       "      <th>12</th>\n",
       "      <td>2016-02-02</td>\n",
       "    </tr>\n",
       "    <tr>\n",
       "      <th>13</th>\n",
       "      <td>2016-02-03</td>\n",
       "    </tr>\n",
       "    <tr>\n",
       "      <th>14</th>\n",
       "      <td>2016-02-04</td>\n",
       "    </tr>\n",
       "    <tr>\n",
       "      <th>15</th>\n",
       "      <td>2016-02-05</td>\n",
       "    </tr>\n",
       "    <tr>\n",
       "      <th>16</th>\n",
       "      <td>2016-02-06</td>\n",
       "    </tr>\n",
       "    <tr>\n",
       "      <th>17</th>\n",
       "      <td>2016-02-07</td>\n",
       "    </tr>\n",
       "    <tr>\n",
       "      <th>18</th>\n",
       "      <td>2016-02-08</td>\n",
       "    </tr>\n",
       "    <tr>\n",
       "      <th>19</th>\n",
       "      <td>2016-02-09</td>\n",
       "    </tr>\n",
       "    <tr>\n",
       "      <th>20</th>\n",
       "      <td>2016-02-10</td>\n",
       "    </tr>\n",
       "    <tr>\n",
       "      <th>21</th>\n",
       "      <td>2016-02-11</td>\n",
       "    </tr>\n",
       "    <tr>\n",
       "      <th>22</th>\n",
       "      <td>2016-02-12</td>\n",
       "    </tr>\n",
       "    <tr>\n",
       "      <th>23</th>\n",
       "      <td>2016-02-13</td>\n",
       "    </tr>\n",
       "    <tr>\n",
       "      <th>24</th>\n",
       "      <td>2016-02-14</td>\n",
       "    </tr>\n",
       "    <tr>\n",
       "      <th>25</th>\n",
       "      <td>2016-02-15</td>\n",
       "    </tr>\n",
       "    <tr>\n",
       "      <th>26</th>\n",
       "      <td>2016-02-16</td>\n",
       "    </tr>\n",
       "    <tr>\n",
       "      <th>27</th>\n",
       "      <td>2016-02-17</td>\n",
       "    </tr>\n",
       "    <tr>\n",
       "      <th>28</th>\n",
       "      <td>2016-02-18</td>\n",
       "    </tr>\n",
       "    <tr>\n",
       "      <th>29</th>\n",
       "      <td>2016-02-19</td>\n",
       "    </tr>\n",
       "  </tbody>\n",
       "</table>\n",
       "</div>"
      ],
      "text/plain": [
       "           ds\n",
       "0  2016-01-21\n",
       "1  2016-01-22\n",
       "2  2016-01-23\n",
       "3  2016-01-24\n",
       "4  2016-01-25\n",
       "5  2016-01-26\n",
       "6  2016-01-27\n",
       "7  2016-01-28\n",
       "8  2016-01-29\n",
       "9  2016-01-30\n",
       "10 2016-01-31\n",
       "11 2016-02-01\n",
       "12 2016-02-02\n",
       "13 2016-02-03\n",
       "14 2016-02-04\n",
       "15 2016-02-05\n",
       "16 2016-02-06\n",
       "17 2016-02-07\n",
       "18 2016-02-08\n",
       "19 2016-02-09\n",
       "20 2016-02-10\n",
       "21 2016-02-11\n",
       "22 2016-02-12\n",
       "23 2016-02-13\n",
       "24 2016-02-14\n",
       "25 2016-02-15\n",
       "26 2016-02-16\n",
       "27 2016-02-17\n",
       "28 2016-02-18\n",
       "29 2016-02-19"
      ]
     },
     "execution_count": 41,
     "metadata": {},
     "output_type": "execute_result"
    }
   ],
   "source": [
    "wiki_forecast2 = wiki_model.make_future_dataframe(periods=30, freq='D',include_history= False)\n",
    "wiki_forecast2"
   ]
  },
  {
   "cell_type": "code",
   "execution_count": 43,
   "id": "a4c0c68c-9f31-4e40-9c14-cd8636102909",
   "metadata": {},
   "outputs": [],
   "source": [
    "wiki_forecast2 = wiki_model.predict(wiki_forecast2)"
   ]
  },
  {
   "cell_type": "code",
   "execution_count": 45,
   "id": "b2780eff-632f-4a27-a8ef-8bcb01343de2",
   "metadata": {},
   "outputs": [
    {
     "data": {
      "text/html": [
       "<div>\n",
       "<style scoped>\n",
       "    .dataframe tbody tr th:only-of-type {\n",
       "        vertical-align: middle;\n",
       "    }\n",
       "\n",
       "    .dataframe tbody tr th {\n",
       "        vertical-align: top;\n",
       "    }\n",
       "\n",
       "    .dataframe thead th {\n",
       "        text-align: right;\n",
       "    }\n",
       "</style>\n",
       "<table border=\"1\" class=\"dataframe\">\n",
       "  <thead>\n",
       "    <tr style=\"text-align: right;\">\n",
       "      <th></th>\n",
       "      <th>ds</th>\n",
       "      <th>trend</th>\n",
       "      <th>yhat_lower</th>\n",
       "      <th>yhat_upper</th>\n",
       "      <th>trend_lower</th>\n",
       "      <th>trend_upper</th>\n",
       "      <th>additive_terms</th>\n",
       "      <th>additive_terms_lower</th>\n",
       "      <th>additive_terms_upper</th>\n",
       "      <th>weekly</th>\n",
       "      <th>weekly_lower</th>\n",
       "      <th>weekly_upper</th>\n",
       "      <th>multiplicative_terms</th>\n",
       "      <th>multiplicative_terms_lower</th>\n",
       "      <th>multiplicative_terms_upper</th>\n",
       "      <th>yhat</th>\n",
       "    </tr>\n",
       "  </thead>\n",
       "  <tbody>\n",
       "    <tr>\n",
       "      <th>0</th>\n",
       "      <td>2016-01-21</td>\n",
       "      <td>2651.439611</td>\n",
       "      <td>2168.435543</td>\n",
       "      <td>3677.615111</td>\n",
       "      <td>2651.338995</td>\n",
       "      <td>2651.487738</td>\n",
       "      <td>266.861149</td>\n",
       "      <td>266.861149</td>\n",
       "      <td>266.861149</td>\n",
       "      <td>266.861149</td>\n",
       "      <td>266.861149</td>\n",
       "      <td>266.861149</td>\n",
       "      <td>0.0</td>\n",
       "      <td>0.0</td>\n",
       "      <td>0.0</td>\n",
       "      <td>2918.300761</td>\n",
       "    </tr>\n",
       "    <tr>\n",
       "      <th>1</th>\n",
       "      <td>2016-01-22</td>\n",
       "      <td>2653.779721</td>\n",
       "      <td>1920.734478</td>\n",
       "      <td>3382.349875</td>\n",
       "      <td>2653.360303</td>\n",
       "      <td>2654.116581</td>\n",
       "      <td>-9.091115</td>\n",
       "      <td>-9.091115</td>\n",
       "      <td>-9.091115</td>\n",
       "      <td>-9.091115</td>\n",
       "      <td>-9.091115</td>\n",
       "      <td>-9.091115</td>\n",
       "      <td>0.0</td>\n",
       "      <td>0.0</td>\n",
       "      <td>0.0</td>\n",
       "      <td>2644.688606</td>\n",
       "    </tr>\n",
       "    <tr>\n",
       "      <th>2</th>\n",
       "      <td>2016-01-23</td>\n",
       "      <td>2656.119831</td>\n",
       "      <td>1025.766741</td>\n",
       "      <td>2497.234293</td>\n",
       "      <td>2655.239345</td>\n",
       "      <td>2656.856208</td>\n",
       "      <td>-843.541167</td>\n",
       "      <td>-843.541167</td>\n",
       "      <td>-843.541167</td>\n",
       "      <td>-843.541167</td>\n",
       "      <td>-843.541167</td>\n",
       "      <td>-843.541167</td>\n",
       "      <td>0.0</td>\n",
       "      <td>0.0</td>\n",
       "      <td>0.0</td>\n",
       "      <td>1812.578664</td>\n",
       "    </tr>\n",
       "    <tr>\n",
       "      <th>3</th>\n",
       "      <td>2016-01-24</td>\n",
       "      <td>2658.459940</td>\n",
       "      <td>1214.987293</td>\n",
       "      <td>2664.593077</td>\n",
       "      <td>2656.972843</td>\n",
       "      <td>2659.805976</td>\n",
       "      <td>-704.671779</td>\n",
       "      <td>-704.671779</td>\n",
       "      <td>-704.671779</td>\n",
       "      <td>-704.671779</td>\n",
       "      <td>-704.671779</td>\n",
       "      <td>-704.671779</td>\n",
       "      <td>0.0</td>\n",
       "      <td>0.0</td>\n",
       "      <td>0.0</td>\n",
       "      <td>1953.788162</td>\n",
       "    </tr>\n",
       "    <tr>\n",
       "      <th>4</th>\n",
       "      <td>2016-01-25</td>\n",
       "      <td>2660.800050</td>\n",
       "      <td>2201.110789</td>\n",
       "      <td>3699.125618</td>\n",
       "      <td>2658.712945</td>\n",
       "      <td>2662.764280</td>\n",
       "      <td>308.512131</td>\n",
       "      <td>308.512131</td>\n",
       "      <td>308.512131</td>\n",
       "      <td>308.512131</td>\n",
       "      <td>308.512131</td>\n",
       "      <td>308.512131</td>\n",
       "      <td>0.0</td>\n",
       "      <td>0.0</td>\n",
       "      <td>0.0</td>\n",
       "      <td>2969.312181</td>\n",
       "    </tr>\n",
       "    <tr>\n",
       "      <th>5</th>\n",
       "      <td>2016-01-26</td>\n",
       "      <td>2663.140160</td>\n",
       "      <td>2466.795477</td>\n",
       "      <td>3982.998344</td>\n",
       "      <td>2660.320515</td>\n",
       "      <td>2665.794916</td>\n",
       "      <td>545.515957</td>\n",
       "      <td>545.515957</td>\n",
       "      <td>545.515957</td>\n",
       "      <td>545.515957</td>\n",
       "      <td>545.515957</td>\n",
       "      <td>545.515957</td>\n",
       "      <td>0.0</td>\n",
       "      <td>0.0</td>\n",
       "      <td>0.0</td>\n",
       "      <td>3208.656117</td>\n",
       "    </tr>\n",
       "    <tr>\n",
       "      <th>6</th>\n",
       "      <td>2016-01-27</td>\n",
       "      <td>2665.480269</td>\n",
       "      <td>2369.548412</td>\n",
       "      <td>3829.860022</td>\n",
       "      <td>2661.837056</td>\n",
       "      <td>2668.966090</td>\n",
       "      <td>436.414822</td>\n",
       "      <td>436.414822</td>\n",
       "      <td>436.414822</td>\n",
       "      <td>436.414822</td>\n",
       "      <td>436.414822</td>\n",
       "      <td>436.414822</td>\n",
       "      <td>0.0</td>\n",
       "      <td>0.0</td>\n",
       "      <td>0.0</td>\n",
       "      <td>3101.895092</td>\n",
       "    </tr>\n",
       "    <tr>\n",
       "      <th>7</th>\n",
       "      <td>2016-01-28</td>\n",
       "      <td>2667.820379</td>\n",
       "      <td>2199.286223</td>\n",
       "      <td>3637.107318</td>\n",
       "      <td>2663.315857</td>\n",
       "      <td>2672.071829</td>\n",
       "      <td>266.861149</td>\n",
       "      <td>266.861149</td>\n",
       "      <td>266.861149</td>\n",
       "      <td>266.861149</td>\n",
       "      <td>266.861149</td>\n",
       "      <td>266.861149</td>\n",
       "      <td>0.0</td>\n",
       "      <td>0.0</td>\n",
       "      <td>0.0</td>\n",
       "      <td>2934.681528</td>\n",
       "    </tr>\n",
       "    <tr>\n",
       "      <th>8</th>\n",
       "      <td>2016-01-29</td>\n",
       "      <td>2670.160489</td>\n",
       "      <td>1884.345447</td>\n",
       "      <td>3440.715750</td>\n",
       "      <td>2664.510846</td>\n",
       "      <td>2675.307720</td>\n",
       "      <td>-9.091115</td>\n",
       "      <td>-9.091115</td>\n",
       "      <td>-9.091115</td>\n",
       "      <td>-9.091115</td>\n",
       "      <td>-9.091115</td>\n",
       "      <td>-9.091115</td>\n",
       "      <td>0.0</td>\n",
       "      <td>0.0</td>\n",
       "      <td>0.0</td>\n",
       "      <td>2661.069374</td>\n",
       "    </tr>\n",
       "    <tr>\n",
       "      <th>9</th>\n",
       "      <td>2016-01-30</td>\n",
       "      <td>2672.500599</td>\n",
       "      <td>1094.408730</td>\n",
       "      <td>2598.718133</td>\n",
       "      <td>2666.041854</td>\n",
       "      <td>2678.441114</td>\n",
       "      <td>-843.541167</td>\n",
       "      <td>-843.541167</td>\n",
       "      <td>-843.541167</td>\n",
       "      <td>-843.541167</td>\n",
       "      <td>-843.541167</td>\n",
       "      <td>-843.541167</td>\n",
       "      <td>0.0</td>\n",
       "      <td>0.0</td>\n",
       "      <td>0.0</td>\n",
       "      <td>1828.959432</td>\n",
       "    </tr>\n",
       "    <tr>\n",
       "      <th>10</th>\n",
       "      <td>2016-01-31</td>\n",
       "      <td>2674.840708</td>\n",
       "      <td>1191.406448</td>\n",
       "      <td>2778.639245</td>\n",
       "      <td>2667.341683</td>\n",
       "      <td>2681.568997</td>\n",
       "      <td>-704.671779</td>\n",
       "      <td>-704.671779</td>\n",
       "      <td>-704.671779</td>\n",
       "      <td>-704.671779</td>\n",
       "      <td>-704.671779</td>\n",
       "      <td>-704.671779</td>\n",
       "      <td>0.0</td>\n",
       "      <td>0.0</td>\n",
       "      <td>0.0</td>\n",
       "      <td>1970.168930</td>\n",
       "    </tr>\n",
       "    <tr>\n",
       "      <th>11</th>\n",
       "      <td>2016-02-01</td>\n",
       "      <td>2677.180818</td>\n",
       "      <td>2250.210071</td>\n",
       "      <td>3757.397505</td>\n",
       "      <td>2668.839304</td>\n",
       "      <td>2684.591444</td>\n",
       "      <td>308.512131</td>\n",
       "      <td>308.512131</td>\n",
       "      <td>308.512131</td>\n",
       "      <td>308.512131</td>\n",
       "      <td>308.512131</td>\n",
       "      <td>308.512131</td>\n",
       "      <td>0.0</td>\n",
       "      <td>0.0</td>\n",
       "      <td>0.0</td>\n",
       "      <td>2985.692949</td>\n",
       "    </tr>\n",
       "    <tr>\n",
       "      <th>12</th>\n",
       "      <td>2016-02-02</td>\n",
       "      <td>2679.520928</td>\n",
       "      <td>2442.065655</td>\n",
       "      <td>3992.239570</td>\n",
       "      <td>2670.157656</td>\n",
       "      <td>2687.807489</td>\n",
       "      <td>545.515957</td>\n",
       "      <td>545.515957</td>\n",
       "      <td>545.515957</td>\n",
       "      <td>545.515957</td>\n",
       "      <td>545.515957</td>\n",
       "      <td>545.515957</td>\n",
       "      <td>0.0</td>\n",
       "      <td>0.0</td>\n",
       "      <td>0.0</td>\n",
       "      <td>3225.036885</td>\n",
       "    </tr>\n",
       "    <tr>\n",
       "      <th>13</th>\n",
       "      <td>2016-02-03</td>\n",
       "      <td>2681.861037</td>\n",
       "      <td>2368.776624</td>\n",
       "      <td>3853.262603</td>\n",
       "      <td>2672.056999</td>\n",
       "      <td>2690.966047</td>\n",
       "      <td>436.414822</td>\n",
       "      <td>436.414822</td>\n",
       "      <td>436.414822</td>\n",
       "      <td>436.414822</td>\n",
       "      <td>436.414822</td>\n",
       "      <td>436.414822</td>\n",
       "      <td>0.0</td>\n",
       "      <td>0.0</td>\n",
       "      <td>0.0</td>\n",
       "      <td>3118.275859</td>\n",
       "    </tr>\n",
       "    <tr>\n",
       "      <th>14</th>\n",
       "      <td>2016-02-04</td>\n",
       "      <td>2684.201147</td>\n",
       "      <td>2236.440635</td>\n",
       "      <td>3678.780958</td>\n",
       "      <td>2673.253267</td>\n",
       "      <td>2694.099011</td>\n",
       "      <td>266.861149</td>\n",
       "      <td>266.861149</td>\n",
       "      <td>266.861149</td>\n",
       "      <td>266.861149</td>\n",
       "      <td>266.861149</td>\n",
       "      <td>266.861149</td>\n",
       "      <td>0.0</td>\n",
       "      <td>0.0</td>\n",
       "      <td>0.0</td>\n",
       "      <td>2951.062296</td>\n",
       "    </tr>\n",
       "    <tr>\n",
       "      <th>15</th>\n",
       "      <td>2016-02-05</td>\n",
       "      <td>2686.541257</td>\n",
       "      <td>1917.704614</td>\n",
       "      <td>3464.317976</td>\n",
       "      <td>2674.290066</td>\n",
       "      <td>2697.317776</td>\n",
       "      <td>-9.091115</td>\n",
       "      <td>-9.091115</td>\n",
       "      <td>-9.091115</td>\n",
       "      <td>-9.091115</td>\n",
       "      <td>-9.091115</td>\n",
       "      <td>-9.091115</td>\n",
       "      <td>0.0</td>\n",
       "      <td>0.0</td>\n",
       "      <td>0.0</td>\n",
       "      <td>2677.450142</td>\n",
       "    </tr>\n",
       "    <tr>\n",
       "      <th>16</th>\n",
       "      <td>2016-02-06</td>\n",
       "      <td>2688.881366</td>\n",
       "      <td>1114.286260</td>\n",
       "      <td>2622.268695</td>\n",
       "      <td>2675.225657</td>\n",
       "      <td>2700.938982</td>\n",
       "      <td>-843.541167</td>\n",
       "      <td>-843.541167</td>\n",
       "      <td>-843.541167</td>\n",
       "      <td>-843.541167</td>\n",
       "      <td>-843.541167</td>\n",
       "      <td>-843.541167</td>\n",
       "      <td>0.0</td>\n",
       "      <td>0.0</td>\n",
       "      <td>0.0</td>\n",
       "      <td>1845.340200</td>\n",
       "    </tr>\n",
       "    <tr>\n",
       "      <th>17</th>\n",
       "      <td>2016-02-07</td>\n",
       "      <td>2691.221476</td>\n",
       "      <td>1246.088878</td>\n",
       "      <td>2741.823064</td>\n",
       "      <td>2676.548940</td>\n",
       "      <td>2704.565241</td>\n",
       "      <td>-704.671779</td>\n",
       "      <td>-704.671779</td>\n",
       "      <td>-704.671779</td>\n",
       "      <td>-704.671779</td>\n",
       "      <td>-704.671779</td>\n",
       "      <td>-704.671779</td>\n",
       "      <td>0.0</td>\n",
       "      <td>0.0</td>\n",
       "      <td>0.0</td>\n",
       "      <td>1986.549697</td>\n",
       "    </tr>\n",
       "    <tr>\n",
       "      <th>18</th>\n",
       "      <td>2016-02-08</td>\n",
       "      <td>2693.561586</td>\n",
       "      <td>2287.719140</td>\n",
       "      <td>3757.971819</td>\n",
       "      <td>2678.160561</td>\n",
       "      <td>2708.014334</td>\n",
       "      <td>308.512131</td>\n",
       "      <td>308.512131</td>\n",
       "      <td>308.512131</td>\n",
       "      <td>308.512131</td>\n",
       "      <td>308.512131</td>\n",
       "      <td>308.512131</td>\n",
       "      <td>0.0</td>\n",
       "      <td>0.0</td>\n",
       "      <td>0.0</td>\n",
       "      <td>3002.073717</td>\n",
       "    </tr>\n",
       "    <tr>\n",
       "      <th>19</th>\n",
       "      <td>2016-02-09</td>\n",
       "      <td>2695.901695</td>\n",
       "      <td>2442.619999</td>\n",
       "      <td>3931.591720</td>\n",
       "      <td>2678.767416</td>\n",
       "      <td>2711.189072</td>\n",
       "      <td>545.515957</td>\n",
       "      <td>545.515957</td>\n",
       "      <td>545.515957</td>\n",
       "      <td>545.515957</td>\n",
       "      <td>545.515957</td>\n",
       "      <td>545.515957</td>\n",
       "      <td>0.0</td>\n",
       "      <td>0.0</td>\n",
       "      <td>0.0</td>\n",
       "      <td>3241.417653</td>\n",
       "    </tr>\n",
       "    <tr>\n",
       "      <th>20</th>\n",
       "      <td>2016-02-10</td>\n",
       "      <td>2698.241805</td>\n",
       "      <td>2347.154610</td>\n",
       "      <td>3832.726004</td>\n",
       "      <td>2680.341639</td>\n",
       "      <td>2714.563959</td>\n",
       "      <td>436.414822</td>\n",
       "      <td>436.414822</td>\n",
       "      <td>436.414822</td>\n",
       "      <td>436.414822</td>\n",
       "      <td>436.414822</td>\n",
       "      <td>436.414822</td>\n",
       "      <td>0.0</td>\n",
       "      <td>0.0</td>\n",
       "      <td>0.0</td>\n",
       "      <td>3134.656627</td>\n",
       "    </tr>\n",
       "    <tr>\n",
       "      <th>21</th>\n",
       "      <td>2016-02-11</td>\n",
       "      <td>2700.581915</td>\n",
       "      <td>2169.737712</td>\n",
       "      <td>3746.879629</td>\n",
       "      <td>2681.541096</td>\n",
       "      <td>2718.345225</td>\n",
       "      <td>266.861149</td>\n",
       "      <td>266.861149</td>\n",
       "      <td>266.861149</td>\n",
       "      <td>266.861149</td>\n",
       "      <td>266.861149</td>\n",
       "      <td>266.861149</td>\n",
       "      <td>0.0</td>\n",
       "      <td>0.0</td>\n",
       "      <td>0.0</td>\n",
       "      <td>2967.443064</td>\n",
       "    </tr>\n",
       "    <tr>\n",
       "      <th>22</th>\n",
       "      <td>2016-02-12</td>\n",
       "      <td>2702.922024</td>\n",
       "      <td>1956.194884</td>\n",
       "      <td>3411.235278</td>\n",
       "      <td>2682.390193</td>\n",
       "      <td>2721.690220</td>\n",
       "      <td>-9.091115</td>\n",
       "      <td>-9.091115</td>\n",
       "      <td>-9.091115</td>\n",
       "      <td>-9.091115</td>\n",
       "      <td>-9.091115</td>\n",
       "      <td>-9.091115</td>\n",
       "      <td>0.0</td>\n",
       "      <td>0.0</td>\n",
       "      <td>0.0</td>\n",
       "      <td>2693.830910</td>\n",
       "    </tr>\n",
       "    <tr>\n",
       "      <th>23</th>\n",
       "      <td>2016-02-13</td>\n",
       "      <td>2705.262134</td>\n",
       "      <td>1061.393045</td>\n",
       "      <td>2651.177753</td>\n",
       "      <td>2683.217437</td>\n",
       "      <td>2725.810309</td>\n",
       "      <td>-843.541167</td>\n",
       "      <td>-843.541167</td>\n",
       "      <td>-843.541167</td>\n",
       "      <td>-843.541167</td>\n",
       "      <td>-843.541167</td>\n",
       "      <td>-843.541167</td>\n",
       "      <td>0.0</td>\n",
       "      <td>0.0</td>\n",
       "      <td>0.0</td>\n",
       "      <td>1861.720968</td>\n",
       "    </tr>\n",
       "    <tr>\n",
       "      <th>24</th>\n",
       "      <td>2016-02-14</td>\n",
       "      <td>2707.602244</td>\n",
       "      <td>1246.425944</td>\n",
       "      <td>2762.816926</td>\n",
       "      <td>2684.017005</td>\n",
       "      <td>2729.242798</td>\n",
       "      <td>-704.671779</td>\n",
       "      <td>-704.671779</td>\n",
       "      <td>-704.671779</td>\n",
       "      <td>-704.671779</td>\n",
       "      <td>-704.671779</td>\n",
       "      <td>-704.671779</td>\n",
       "      <td>0.0</td>\n",
       "      <td>0.0</td>\n",
       "      <td>0.0</td>\n",
       "      <td>2002.930465</td>\n",
       "    </tr>\n",
       "    <tr>\n",
       "      <th>25</th>\n",
       "      <td>2016-02-15</td>\n",
       "      <td>2709.942354</td>\n",
       "      <td>2368.802942</td>\n",
       "      <td>3770.836752</td>\n",
       "      <td>2684.925647</td>\n",
       "      <td>2733.183745</td>\n",
       "      <td>308.512131</td>\n",
       "      <td>308.512131</td>\n",
       "      <td>308.512131</td>\n",
       "      <td>308.512131</td>\n",
       "      <td>308.512131</td>\n",
       "      <td>308.512131</td>\n",
       "      <td>0.0</td>\n",
       "      <td>0.0</td>\n",
       "      <td>0.0</td>\n",
       "      <td>3018.454485</td>\n",
       "    </tr>\n",
       "    <tr>\n",
       "      <th>26</th>\n",
       "      <td>2016-02-16</td>\n",
       "      <td>2712.282463</td>\n",
       "      <td>2530.983251</td>\n",
       "      <td>4043.162039</td>\n",
       "      <td>2686.298273</td>\n",
       "      <td>2736.735628</td>\n",
       "      <td>545.515957</td>\n",
       "      <td>545.515957</td>\n",
       "      <td>545.515957</td>\n",
       "      <td>545.515957</td>\n",
       "      <td>545.515957</td>\n",
       "      <td>545.515957</td>\n",
       "      <td>0.0</td>\n",
       "      <td>0.0</td>\n",
       "      <td>0.0</td>\n",
       "      <td>3257.798421</td>\n",
       "    </tr>\n",
       "    <tr>\n",
       "      <th>27</th>\n",
       "      <td>2016-02-17</td>\n",
       "      <td>2714.622573</td>\n",
       "      <td>2387.534928</td>\n",
       "      <td>3958.764997</td>\n",
       "      <td>2686.601415</td>\n",
       "      <td>2739.969623</td>\n",
       "      <td>436.414822</td>\n",
       "      <td>436.414822</td>\n",
       "      <td>436.414822</td>\n",
       "      <td>436.414822</td>\n",
       "      <td>436.414822</td>\n",
       "      <td>436.414822</td>\n",
       "      <td>0.0</td>\n",
       "      <td>0.0</td>\n",
       "      <td>0.0</td>\n",
       "      <td>3151.037395</td>\n",
       "    </tr>\n",
       "    <tr>\n",
       "      <th>28</th>\n",
       "      <td>2016-02-18</td>\n",
       "      <td>2716.962683</td>\n",
       "      <td>2216.743140</td>\n",
       "      <td>3750.495435</td>\n",
       "      <td>2687.434853</td>\n",
       "      <td>2743.339540</td>\n",
       "      <td>266.861149</td>\n",
       "      <td>266.861149</td>\n",
       "      <td>266.861149</td>\n",
       "      <td>266.861149</td>\n",
       "      <td>266.861149</td>\n",
       "      <td>266.861149</td>\n",
       "      <td>0.0</td>\n",
       "      <td>0.0</td>\n",
       "      <td>0.0</td>\n",
       "      <td>2983.823832</td>\n",
       "    </tr>\n",
       "    <tr>\n",
       "      <th>29</th>\n",
       "      <td>2016-02-19</td>\n",
       "      <td>2719.302792</td>\n",
       "      <td>1963.001562</td>\n",
       "      <td>3479.546032</td>\n",
       "      <td>2687.645627</td>\n",
       "      <td>2746.832580</td>\n",
       "      <td>-9.091115</td>\n",
       "      <td>-9.091115</td>\n",
       "      <td>-9.091115</td>\n",
       "      <td>-9.091115</td>\n",
       "      <td>-9.091115</td>\n",
       "      <td>-9.091115</td>\n",
       "      <td>0.0</td>\n",
       "      <td>0.0</td>\n",
       "      <td>0.0</td>\n",
       "      <td>2710.211678</td>\n",
       "    </tr>\n",
       "  </tbody>\n",
       "</table>\n",
       "</div>"
      ],
      "text/plain": [
       "           ds        trend   yhat_lower   yhat_upper  trend_lower  \\\n",
       "0  2016-01-21  2651.439611  2168.435543  3677.615111  2651.338995   \n",
       "1  2016-01-22  2653.779721  1920.734478  3382.349875  2653.360303   \n",
       "2  2016-01-23  2656.119831  1025.766741  2497.234293  2655.239345   \n",
       "3  2016-01-24  2658.459940  1214.987293  2664.593077  2656.972843   \n",
       "4  2016-01-25  2660.800050  2201.110789  3699.125618  2658.712945   \n",
       "5  2016-01-26  2663.140160  2466.795477  3982.998344  2660.320515   \n",
       "6  2016-01-27  2665.480269  2369.548412  3829.860022  2661.837056   \n",
       "7  2016-01-28  2667.820379  2199.286223  3637.107318  2663.315857   \n",
       "8  2016-01-29  2670.160489  1884.345447  3440.715750  2664.510846   \n",
       "9  2016-01-30  2672.500599  1094.408730  2598.718133  2666.041854   \n",
       "10 2016-01-31  2674.840708  1191.406448  2778.639245  2667.341683   \n",
       "11 2016-02-01  2677.180818  2250.210071  3757.397505  2668.839304   \n",
       "12 2016-02-02  2679.520928  2442.065655  3992.239570  2670.157656   \n",
       "13 2016-02-03  2681.861037  2368.776624  3853.262603  2672.056999   \n",
       "14 2016-02-04  2684.201147  2236.440635  3678.780958  2673.253267   \n",
       "15 2016-02-05  2686.541257  1917.704614  3464.317976  2674.290066   \n",
       "16 2016-02-06  2688.881366  1114.286260  2622.268695  2675.225657   \n",
       "17 2016-02-07  2691.221476  1246.088878  2741.823064  2676.548940   \n",
       "18 2016-02-08  2693.561586  2287.719140  3757.971819  2678.160561   \n",
       "19 2016-02-09  2695.901695  2442.619999  3931.591720  2678.767416   \n",
       "20 2016-02-10  2698.241805  2347.154610  3832.726004  2680.341639   \n",
       "21 2016-02-11  2700.581915  2169.737712  3746.879629  2681.541096   \n",
       "22 2016-02-12  2702.922024  1956.194884  3411.235278  2682.390193   \n",
       "23 2016-02-13  2705.262134  1061.393045  2651.177753  2683.217437   \n",
       "24 2016-02-14  2707.602244  1246.425944  2762.816926  2684.017005   \n",
       "25 2016-02-15  2709.942354  2368.802942  3770.836752  2684.925647   \n",
       "26 2016-02-16  2712.282463  2530.983251  4043.162039  2686.298273   \n",
       "27 2016-02-17  2714.622573  2387.534928  3958.764997  2686.601415   \n",
       "28 2016-02-18  2716.962683  2216.743140  3750.495435  2687.434853   \n",
       "29 2016-02-19  2719.302792  1963.001562  3479.546032  2687.645627   \n",
       "\n",
       "    trend_upper  additive_terms  additive_terms_lower  additive_terms_upper  \\\n",
       "0   2651.487738      266.861149            266.861149            266.861149   \n",
       "1   2654.116581       -9.091115             -9.091115             -9.091115   \n",
       "2   2656.856208     -843.541167           -843.541167           -843.541167   \n",
       "3   2659.805976     -704.671779           -704.671779           -704.671779   \n",
       "4   2662.764280      308.512131            308.512131            308.512131   \n",
       "5   2665.794916      545.515957            545.515957            545.515957   \n",
       "6   2668.966090      436.414822            436.414822            436.414822   \n",
       "7   2672.071829      266.861149            266.861149            266.861149   \n",
       "8   2675.307720       -9.091115             -9.091115             -9.091115   \n",
       "9   2678.441114     -843.541167           -843.541167           -843.541167   \n",
       "10  2681.568997     -704.671779           -704.671779           -704.671779   \n",
       "11  2684.591444      308.512131            308.512131            308.512131   \n",
       "12  2687.807489      545.515957            545.515957            545.515957   \n",
       "13  2690.966047      436.414822            436.414822            436.414822   \n",
       "14  2694.099011      266.861149            266.861149            266.861149   \n",
       "15  2697.317776       -9.091115             -9.091115             -9.091115   \n",
       "16  2700.938982     -843.541167           -843.541167           -843.541167   \n",
       "17  2704.565241     -704.671779           -704.671779           -704.671779   \n",
       "18  2708.014334      308.512131            308.512131            308.512131   \n",
       "19  2711.189072      545.515957            545.515957            545.515957   \n",
       "20  2714.563959      436.414822            436.414822            436.414822   \n",
       "21  2718.345225      266.861149            266.861149            266.861149   \n",
       "22  2721.690220       -9.091115             -9.091115             -9.091115   \n",
       "23  2725.810309     -843.541167           -843.541167           -843.541167   \n",
       "24  2729.242798     -704.671779           -704.671779           -704.671779   \n",
       "25  2733.183745      308.512131            308.512131            308.512131   \n",
       "26  2736.735628      545.515957            545.515957            545.515957   \n",
       "27  2739.969623      436.414822            436.414822            436.414822   \n",
       "28  2743.339540      266.861149            266.861149            266.861149   \n",
       "29  2746.832580       -9.091115             -9.091115             -9.091115   \n",
       "\n",
       "        weekly  weekly_lower  weekly_upper  multiplicative_terms  \\\n",
       "0   266.861149    266.861149    266.861149                   0.0   \n",
       "1    -9.091115     -9.091115     -9.091115                   0.0   \n",
       "2  -843.541167   -843.541167   -843.541167                   0.0   \n",
       "3  -704.671779   -704.671779   -704.671779                   0.0   \n",
       "4   308.512131    308.512131    308.512131                   0.0   \n",
       "5   545.515957    545.515957    545.515957                   0.0   \n",
       "6   436.414822    436.414822    436.414822                   0.0   \n",
       "7   266.861149    266.861149    266.861149                   0.0   \n",
       "8    -9.091115     -9.091115     -9.091115                   0.0   \n",
       "9  -843.541167   -843.541167   -843.541167                   0.0   \n",
       "10 -704.671779   -704.671779   -704.671779                   0.0   \n",
       "11  308.512131    308.512131    308.512131                   0.0   \n",
       "12  545.515957    545.515957    545.515957                   0.0   \n",
       "13  436.414822    436.414822    436.414822                   0.0   \n",
       "14  266.861149    266.861149    266.861149                   0.0   \n",
       "15   -9.091115     -9.091115     -9.091115                   0.0   \n",
       "16 -843.541167   -843.541167   -843.541167                   0.0   \n",
       "17 -704.671779   -704.671779   -704.671779                   0.0   \n",
       "18  308.512131    308.512131    308.512131                   0.0   \n",
       "19  545.515957    545.515957    545.515957                   0.0   \n",
       "20  436.414822    436.414822    436.414822                   0.0   \n",
       "21  266.861149    266.861149    266.861149                   0.0   \n",
       "22   -9.091115     -9.091115     -9.091115                   0.0   \n",
       "23 -843.541167   -843.541167   -843.541167                   0.0   \n",
       "24 -704.671779   -704.671779   -704.671779                   0.0   \n",
       "25  308.512131    308.512131    308.512131                   0.0   \n",
       "26  545.515957    545.515957    545.515957                   0.0   \n",
       "27  436.414822    436.414822    436.414822                   0.0   \n",
       "28  266.861149    266.861149    266.861149                   0.0   \n",
       "29   -9.091115     -9.091115     -9.091115                   0.0   \n",
       "\n",
       "    multiplicative_terms_lower  multiplicative_terms_upper         yhat  \n",
       "0                          0.0                         0.0  2918.300761  \n",
       "1                          0.0                         0.0  2644.688606  \n",
       "2                          0.0                         0.0  1812.578664  \n",
       "3                          0.0                         0.0  1953.788162  \n",
       "4                          0.0                         0.0  2969.312181  \n",
       "5                          0.0                         0.0  3208.656117  \n",
       "6                          0.0                         0.0  3101.895092  \n",
       "7                          0.0                         0.0  2934.681528  \n",
       "8                          0.0                         0.0  2661.069374  \n",
       "9                          0.0                         0.0  1828.959432  \n",
       "10                         0.0                         0.0  1970.168930  \n",
       "11                         0.0                         0.0  2985.692949  \n",
       "12                         0.0                         0.0  3225.036885  \n",
       "13                         0.0                         0.0  3118.275859  \n",
       "14                         0.0                         0.0  2951.062296  \n",
       "15                         0.0                         0.0  2677.450142  \n",
       "16                         0.0                         0.0  1845.340200  \n",
       "17                         0.0                         0.0  1986.549697  \n",
       "18                         0.0                         0.0  3002.073717  \n",
       "19                         0.0                         0.0  3241.417653  \n",
       "20                         0.0                         0.0  3134.656627  \n",
       "21                         0.0                         0.0  2967.443064  \n",
       "22                         0.0                         0.0  2693.830910  \n",
       "23                         0.0                         0.0  1861.720968  \n",
       "24                         0.0                         0.0  2002.930465  \n",
       "25                         0.0                         0.0  3018.454485  \n",
       "26                         0.0                         0.0  3257.798421  \n",
       "27                         0.0                         0.0  3151.037395  \n",
       "28                         0.0                         0.0  2983.823832  \n",
       "29                         0.0                         0.0  2710.211678  "
      ]
     },
     "execution_count": 45,
     "metadata": {},
     "output_type": "execute_result"
    }
   ],
   "source": [
    "wiki_forecast2"
   ]
  },
  {
   "cell_type": "code",
   "execution_count": 49,
   "id": "9a8aa882-5fb2-45fd-957a-fbd653b421a4",
   "metadata": {},
   "outputs": [],
   "source": [
    "forecast_start_date = '2016-01-21'\n",
    "wiki_forecast_filtered = wiki_forecast2[wiki_forecast2['ds'] >= forecast_start_date]"
   ]
  },
  {
   "cell_type": "code",
   "execution_count": 51,
   "id": "0fdb41ae-f7e2-46a3-b87f-9c00e3041b47",
   "metadata": {},
   "outputs": [
    {
     "data": {
      "text/plain": [
       "<Figure size 1800x600 with 0 Axes>"
      ]
     },
     "metadata": {},
     "output_type": "display_data"
    },
    {
     "data": {
      "image/png": "[encoded data removed]",
      "text/plain": [
       "<Figure size 1000x600 with 1 Axes>"
      ]
     },
     "metadata": {},
     "output_type": "display_data"
    }
   ],
   "source": [
    "#plotting furniture forecast\n",
    "plt.figure(figsize=(18, 6))\n",
    "wiki_model.plot(wiki_forecast_filtered, xlabel = 'Date', ylabel = 'Sales')\n",
    "plt.title('Furniture Sales');"
   ]
  },
  {
   "cell_type": "code",
   "execution_count": 53,
   "id": "b9589ca5-a71b-4812-8dff-cc1c0e7f4fc6",
   "metadata": {},
   "outputs": [
    {
     "data": {
      "image/png": "[encoded data removed]",
      "text/plain": [
       "<Figure size 1800x600 with 1 Axes>"
      ]
     },
     "metadata": {},
     "output_type": "display_data"
    }
   ],
   "source": [
    "plt.figure(figsize=(18, 6))\n",
    "plt.plot(wiki_forecast_filtered['ds'], wiki_forecast_filtered['yhat'], label='Forecast')\n",
    "plt.fill_between(wiki_forecast_filtered['ds'], wiki_forecast_filtered['yhat_lower'], wiki_forecast_filtered['yhat_upper'], alpha=0.2)\n",
    "plt.xlabel('Date')\n",
    "plt.ylabel('Count')\n",
    "plt.legend()\n",
    "plt.show()"
   ]
  },
  {
   "cell_type": "code",
   "execution_count": 55,
   "id": "04442ddf-7a85-4652-94a1-8d09e2a3acaf",
   "metadata": {},
   "outputs": [
    {
     "data": {
      "image/png": "[encoded data removed]",
      "text/plain": [
       "<Figure size 900x600 with 2 Axes>"
      ]
     },
     "metadata": {},
     "output_type": "display_data"
    }
   ],
   "source": [
    "wiki_model.plot_components(wiki_forecast2);"
   ]
  },
  {
   "cell_type": "code",
   "execution_count": 186,
   "id": "12b06dd0-04ec-4150-a9af-28eb5e73c502",
   "metadata": {},
   "outputs": [],
   "source": [
    "from neuralprophet import NeuralProphet"
   ]
  },
  {
   "cell_type": "markdown",
   "id": "24410c5b-f0f6-4ca5-aa93-03f269a8c0d2",
   "metadata": {},
   "source": [
    "## NeuralProphet"
   ]
  },
  {
   "cell_type": "code",
   "execution_count": 160,
   "id": "5cb7c4d9-76cc-4481-9347-4d14d19a159e",
   "metadata": {},
   "outputs": [],
   "source": [
    "model = NeuralProphet(\n",
    "    growth=\"linear\",  # Determine trend types: 'linear', 'discontinuous', 'off'\n",
    "    changepoints=None, # list of dates that may include change points (None -> automatic )\n",
    "    n_changepoints=5,\n",
    "    changepoints_range=0.8,\n",
    "    trend_reg=0,\n",
    "    trend_reg_threshold=False,\n",
    "    yearly_seasonality=\"auto\",\n",
    "    weekly_seasonality=\"auto\",\n",
    "    daily_seasonality=\"auto\",\n",
    "    seasonality_mode=\"additive\",\n",
    "    seasonality_reg=0,\n",
    "    n_forecasts=1,\n",
    "    n_lags=0,\n",
    "    learning_rate=None,\n",
    "    epochs=40,\n",
    "    loss_func=\"Huber\",\n",
    "    normalize=\"auto\",  # Type of normalization ('minmax', 'standardize', 'soft', 'off')\n",
    "    impute_missing=True\n",
    ")"
   ]
  },
  {
   "cell_type": "code",
   "execution_count": 162,
   "id": "cbb40e0d-7442-4667-bead-d24b1911a5d6",
   "metadata": {},
   "outputs": [
    {
     "name": "stderr",
     "output_type": "stream",
     "text": [
      "WARNING - (NP.forecaster.fit) - When Global modeling with local normalization, metrics are displayed in normalized scale.\n",
      "INFO - (NP.df_utils._infer_frequency) - Major frequency D corresponds to 99.479% of the data.\n",
      "INFO - (NP.df_utils._infer_frequency) - Defined frequency is equal to major frequency - D\n",
      "INFO - (NP.config.init_data_params) - Setting normalization to global as only one dataframe provided for training.\n",
      "INFO - (NP.utils.set_auto_seasonalities) - Disabling yearly seasonality. Run NeuralProphet with yearly_seasonality=True to override this.\n",
      "INFO - (NP.utils.set_auto_seasonalities) - Disabling daily seasonality. Run NeuralProphet with daily_seasonality=True to override this.\n",
      "INFO - (NP.config.set_auto_batch_epoch) - Auto-set batch_size to 16\n",
      "WARNING - (NP.config.set_lr_finder_args) - Learning rate finder: The number of batches (24) is too small than the required number                     for the learning rate finder (217). The results might not be optimal.\n"
     ]
    },
    {
     "data": {
      "application/vnd.jupyter.widget-view+json": {
       "model_id": "359c4d15188e40dbb4a8142cd851e3ba",
       "version_major": 2,
       "version_minor": 0
      },
      "text/plain": [
       "Finding best initial lr:   0%|          | 0/217 [00:00<?, ?it/s]"
      ]
     },
     "metadata": {},
     "output_type": "display_data"
    },
    {
     "data": {
      "application/vnd.jupyter.widget-view+json": {
       "model_id": "c3dbf86222d74ca4994844f906496bb1",
       "version_major": 2,
       "version_minor": 0
      },
      "text/plain": [
       "Training: 0it [00:00, ?it/s]"
      ]
     },
     "metadata": {},
     "output_type": "display_data"
    },
    {
     "name": "stderr",
     "output_type": "stream",
     "text": [
      "INFO - (NP.df_utils._infer_frequency) - Major frequency D corresponds to 99.479% of the data.\n",
      "INFO - (NP.df_utils._infer_frequency) - Defined frequency is equal to major frequency - D\n",
      "INFO - (NP.df_utils.return_df_in_original_format) - Returning df with no ID column\n"
     ]
    }
   ],
   "source": [
    "metrics = model.fit(df, freq=\"D\") \n",
    "future = model.make_future_dataframe(df, periods=30, n_historic_predictions=len(df)) "
   ]
  },
  {
   "cell_type": "code",
   "execution_count": 164,
   "id": "7b8fd368-39e4-4db2-b8f5-fa7938b7cee8",
   "metadata": {},
   "outputs": [
    {
     "name": "stderr",
     "output_type": "stream",
     "text": [
      "INFO - (NP.df_utils._infer_frequency) - Major frequency D corresponds to 99.517% of the data.\n",
      "INFO - (NP.df_utils._infer_frequency) - Defined frequency is equal to major frequency - D\n",
      "INFO - (NP.df_utils._infer_frequency) - Major frequency D corresponds to 99.517% of the data.\n",
      "INFO - (NP.df_utils._infer_frequency) - Defined frequency is equal to major frequency - D\n",
      "INFO - (NP.data.processing._handle_missing_data) - Dropped 30 rows at the end with NaNs in 'y' column.\n"
     ]
    },
    {
     "data": {
      "application/vnd.jupyter.widget-view+json": {
       "model_id": "d9ac79900f8249c9bf984fffd9d95fcb",
       "version_major": 2,
       "version_minor": 0
      },
      "text/plain": [
       "Predicting: 24it [00:00, ?it/s]"
      ]
     },
     "metadata": {},
     "output_type": "display_data"
    },
    {
     "name": "stderr",
     "output_type": "stream",
     "text": [
      "INFO - (NP.df_utils.return_df_in_original_format) - Returning df with no ID column\n"
     ]
    }
   ],
   "source": [
    "forecast = model.predict(future)"
   ]
  },
  {
   "cell_type": "code",
   "execution_count": 170,
   "id": "288e2211-60fe-4726-9bca-dbfc00eb882b",
   "metadata": {},
   "outputs": [],
   "source": [
    "forecast = forecast.set_index('ds')"
   ]
  },
  {
   "cell_type": "code",
   "execution_count": 172,
   "id": "bf61d37f-ddee-479f-91b2-6cc7ecacfdd9",
   "metadata": {},
   "outputs": [],
   "source": [
    "forecast = forecast['2016-01-19':]"
   ]
  },
  {
   "cell_type": "code",
   "execution_count": 180,
   "id": "1ca7467e-6aaa-4293-8b58-e1c0f154c685",
   "metadata": {},
   "outputs": [],
   "source": [
    "forecast = forecast.reset_index().sort_values('ds',ascending=True)"
   ]
  },
  {
   "cell_type": "code",
   "execution_count": 190,
   "id": "776489b5-dd54-4884-8de1-aae1ebdad285",
   "metadata": {},
   "outputs": [],
   "source": [
    "import plotly_resampler"
   ]
  },
  {
   "cell_type": "code",
   "execution_count": 184,
   "id": "14018866-9cb7-486c-a5bf-93d4046a91f8",
   "metadata": {},
   "outputs": [
    {
     "name": "stderr",
     "output_type": "stream",
     "text": [
      "ERROR - (NP.plotly.plot) - plotly-resampler is not installed. Please install it to use the resampler.\n"
     ]
    },
    {
     "data": {
      "application/vnd.plotly.v1+json": {
       "config": {
        "plotlyServerURL": "https://plot.ly"
       },
       "data": [
        {
         "fill": "none",
         "line": {
          "color": "rgba(45, 146, 255, 1.0)",
          "width": 2
         },
         "mode": "lines",
         "name": "yhat1",
         "type": "scatter",
         "x": [
          "2016-01-19T00:00:00",
          "2016-01-20T00:00:00",
          "2016-01-21T00:00:00",
          "2016-01-22T00:00:00",
          "2016-01-23T00:00:00",
          "2016-01-24T00:00:00",
          "2016-01-25T00:00:00",
          "2016-01-26T00:00:00",
          "2016-01-27T00:00:00",
          "2016-01-28T00:00:00",
          "2016-01-29T00:00:00",
          "2016-01-30T00:00:00",
          "2016-01-31T00:00:00",
          "2016-02-01T00:00:00",
          "2016-02-02T00:00:00",
          "2016-02-03T00:00:00",
          "2016-02-04T00:00:00",
          "2016-02-05T00:00:00",
          "2016-02-06T00:00:00",
          "2016-02-07T00:00:00",
          "2016-02-08T00:00:00",
          "2016-02-09T00:00:00",
          "2016-02-10T00:00:00",
          "2016-02-11T00:00:00",
          "2016-02-12T00:00:00",
          "2016-02-13T00:00:00",
          "2016-02-14T00:00:00",
          "2016-02-15T00:00:00",
          "2016-02-16T00:00:00",
          "2016-02-17T00:00:00",
          "2016-02-18T00:00:00",
          "2016-02-19T00:00:00"
         ],
         "y": [
          3174.5303,
          3122.211,
          2960.1697,
          2676.113,
          1820.5592,
          1960.4376,
          2994.97,
          3190.7146,
          3138.3132,
          2976.2778,
          2693.3213,
          1837.5127,
          1976.5511,
          3011.3472,
          3207.034,
          3154.7153,
          2992.4448,
          2708.5815,
          1853.3341,
          1991.8107,
          3027.251,
          3223.4624,
          3170.9512,
          3008.8223,
          2724.6868,
          1869.7218,
          2009.3873,
          3043.6284,
          3239.5117,
          3187.1868,
          3025.1416,
          2741.8958
         ]
        },
        {
         "marker": {
          "color": "black",
          "size": 4
         },
         "mode": "markers",
         "name": "Actual",
         "type": "scatter",
         "x": [
          "2016-01-19T00:00:00",
          "2016-01-20T00:00:00",
          "2016-01-21T00:00:00",
          "2016-01-22T00:00:00",
          "2016-01-23T00:00:00",
          "2016-01-24T00:00:00",
          "2016-01-25T00:00:00",
          "2016-01-26T00:00:00",
          "2016-01-27T00:00:00",
          "2016-01-28T00:00:00",
          "2016-01-29T00:00:00",
          "2016-01-30T00:00:00",
          "2016-01-31T00:00:00",
          "2016-02-01T00:00:00",
          "2016-02-02T00:00:00",
          "2016-02-03T00:00:00",
          "2016-02-04T00:00:00",
          "2016-02-05T00:00:00",
          "2016-02-06T00:00:00",
          "2016-02-07T00:00:00",
          "2016-02-08T00:00:00",
          "2016-02-09T00:00:00",
          "2016-02-10T00:00:00",
          "2016-02-11T00:00:00",
          "2016-02-12T00:00:00",
          "2016-02-13T00:00:00",
          "2016-02-14T00:00:00",
          "2016-02-15T00:00:00",
          "2016-02-16T00:00:00",
          "2016-02-17T00:00:00",
          "2016-02-18T00:00:00",
          "2016-02-19T00:00:00"
         ],
         "y": [
          3389,
          3559,
          null,
          null,
          null,
          null,
          null,
          null,
          null,
          null,
          null,
          null,
          null,
          null,
          null,
          null,
          null,
          null,
          null,
          null,
          null,
          null,
          null,
          null,
          null,
          null,
          null,
          null,
          null,
          null,
          null,
          null
         ]
        }
       ],
       "layout": {
        "autosize": true,
        "font": {
         "size": 10
        },
        "height": 420,
        "hovermode": "x unified",
        "margin": {
         "b": 0,
         "l": 0,
         "pad": 0,
         "r": 10,
         "t": 10
        },
        "showlegend": true,
        "template": {
         "data": {
          "bar": [
           {
            "error_x": {
             "color": "#2a3f5f"
            },
            "error_y": {
             "color": "#2a3f5f"
            },
            "marker": {
             "line": {
              "color": "white",
              "width": 0.5
             },
             "pattern": {
              "fillmode": "overlay",
              "size": 10,
              "solidity": 0.2
             }
            },
            "type": "bar"
           }
          ],
          "barpolar": [
           {
            "marker": {
             "line": {
              "color": "white",
              "width": 0.5
             },
             "pattern": {
              "fillmode": "overlay",
              "size": 10,
              "solidity": 0.2
             }
            },
            "type": "barpolar"
           }
          ],
          "carpet": [
           {
            "aaxis": {
             "endlinecolor": "#2a3f5f",
             "gridcolor": "#C8D4E3",
             "linecolor": "#C8D4E3",
             "minorgridcolor": "#C8D4E3",
             "startlinecolor": "#2a3f5f"
            },
            "baxis": {
             "endlinecolor": "#2a3f5f",
             "gridcolor": "#C8D4E3",
             "linecolor": "#C8D4E3",
             "minorgridcolor": "#C8D4E3",
             "startlinecolor": "#2a3f5f"
            },
            "type": "carpet"
           }
          ],
          "choropleth": [
           {
            "colorbar": {
             "outlinewidth": 0,
             "ticks": ""
            },
            "type": "choropleth"
           }
          ],
          "contour": [
           {
            "colorbar": {
             "outlinewidth": 0,
             "ticks": ""
            },
            "colorscale": [
             [
              0,
              "#0d0887"
             ],
             [
              0.1111111111111111,
              "#46039f"
             ],
             [
              0.2222222222222222,
              "#7201a8"
             ],
             [
              0.3333333333333333,
              "#9c179e"
             ],
             [
              0.4444444444444444,
              "#bd3786"
             ],
             [
              0.5555555555555556,
              "#d8576b"
             ],
             [
              0.6666666666666666,
              "#ed7953"
             ],
             [
              0.7777777777777778,
              "#fb9f3a"
             ],
             [
              0.8888888888888888,
              "#fdca26"
             ],
             [
              1,
              "#f0f921"
             ]
            ],
            "type": "contour"
           }
          ],
          "contourcarpet": [
           {
            "colorbar": {
             "outlinewidth": 0,
             "ticks": ""
            },
            "type": "contourcarpet"
           }
          ],
          "heatmap": [
           {
            "colorbar": {
             "outlinewidth": 0,
             "ticks": ""
            },
            "colorscale": [
             [
              0,
              "#0d0887"
             ],
             [
              0.1111111111111111,
              "#46039f"
             ],
             [
              0.2222222222222222,
              "#7201a8"
             ],
             [
              0.3333333333333333,
              "#9c179e"
             ],
             [
              0.4444444444444444,
              "#bd3786"
             ],
             [
              0.5555555555555556,
              "#d8576b"
             ],
             [
              0.6666666666666666,
              "#ed7953"
             ],
             [
              0.7777777777777778,
              "#fb9f3a"
             ],
             [
              0.8888888888888888,
              "#fdca26"
             ],
             [
              1,
              "#f0f921"
             ]
            ],
            "type": "heatmap"
           }
          ],
          "heatmapgl": [
           {
            "colorbar": {
             "outlinewidth": 0,
             "ticks": ""
            },
            "colorscale": [
             [
              0,
              "#0d0887"
             ],
             [
              0.1111111111111111,
              "#46039f"
             ],
             [
              0.2222222222222222,
              "#7201a8"
             ],
             [
              0.3333333333333333,
              "#9c179e"
             ],
             [
              0.4444444444444444,
              "#bd3786"
             ],
             [
              0.5555555555555556,
              "#d8576b"
             ],
             [
              0.6666666666666666,
              "#ed7953"
             ],
             [
              0.7777777777777778,
              "#fb9f3a"
             ],
             [
              0.8888888888888888,
              "#fdca26"
             ],
             [
              1,
              "#f0f921"
             ]
            ],
            "type": "heatmapgl"
           }
          ],
          "histogram": [
           {
            "marker": {
             "pattern": {
              "fillmode": "overlay",
              "size": 10,
              "solidity": 0.2
             }
            },
            "type": "histogram"
           }
          ],
          "histogram2d": [
           {
            "colorbar": {
             "outlinewidth": 0,
             "ticks": ""
            },
            "colorscale": [
             [
              0,
              "#0d0887"
             ],
             [
              0.1111111111111111,
              "#46039f"
             ],
             [
              0.2222222222222222,
              "#7201a8"
             ],
             [
              0.3333333333333333,
              "#9c179e"
             ],
             [
              0.4444444444444444,
              "#bd3786"
             ],
             [
              0.5555555555555556,
              "#d8576b"
             ],
             [
              0.6666666666666666,
              "#ed7953"
             ],
             [
              0.7777777777777778,
              "#fb9f3a"
             ],
             [
              0.8888888888888888,
              "#fdca26"
             ],
             [
              1,
              "#f0f921"
             ]
            ],
            "type": "histogram2d"
           }
          ],
          "histogram2dcontour": [
           {
            "colorbar": {
             "outlinewidth": 0,
             "ticks": ""
            },
            "colorscale": [
             [
              0,
              "#0d0887"
             ],
             [
              0.1111111111111111,
              "#46039f"
             ],
             [
              0.2222222222222222,
              "#7201a8"
             ],
             [
              0.3333333333333333,
              "#9c179e"
             ],
             [
              0.4444444444444444,
              "#bd3786"
             ],
             [
              0.5555555555555556,
              "#d8576b"
             ],
             [
              0.6666666666666666,
              "#ed7953"
             ],
             [
              0.7777777777777778,
              "#fb9f3a"
             ],
             [
              0.8888888888888888,
              "#fdca26"
             ],
             [
              1,
              "#f0f921"
             ]
            ],
            "type": "histogram2dcontour"
           }
          ],
          "mesh3d": [
           {
            "colorbar": {
             "outlinewidth": 0,
             "ticks": ""
            },
            "type": "mesh3d"
           }
          ],
          "parcoords": [
           {
            "line": {
             "colorbar": {
              "outlinewidth": 0,
              "ticks": ""
             }
            },
            "type": "parcoords"
           }
          ],
          "pie": [
           {
            "automargin": true,
            "type": "pie"
           }
          ],
          "scatter": [
           {
            "fillpattern": {
             "fillmode": "overlay",
             "size": 10,
             "solidity": 0.2
            },
            "type": "scatter"
           }
          ],
          "scatter3d": [
           {
            "line": {
             "colorbar": {
              "outlinewidth": 0,
              "ticks": ""
             }
            },
            "marker": {
             "colorbar": {
              "outlinewidth": 0,
              "ticks": ""
             }
            },
            "type": "scatter3d"
           }
          ],
          "scattercarpet": [
           {
            "marker": {
             "colorbar": {
              "outlinewidth": 0,
              "ticks": ""
             }
            },
            "type": "scattercarpet"
           }
          ],
          "scattergeo": [
           {
            "marker": {
             "colorbar": {
              "outlinewidth": 0,
              "ticks": ""
             }
            },
            "type": "scattergeo"
           }
          ],
          "scattergl": [
           {
            "marker": {
             "colorbar": {
              "outlinewidth": 0,
              "ticks": ""
             }
            },
            "type": "scattergl"
           }
          ],
          "scattermapbox": [
           {
            "marker": {
             "colorbar": {
              "outlinewidth": 0,
              "ticks": ""
             }
            },
            "type": "scattermapbox"
           }
          ],
          "scatterpolar": [
           {
            "marker": {
             "colorbar": {
              "outlinewidth": 0,
              "ticks": ""
             }
            },
            "type": "scatterpolar"
           }
          ],
          "scatterpolargl": [
           {
            "marker": {
             "colorbar": {
              "outlinewidth": 0,
              "ticks": ""
             }
            },
            "type": "scatterpolargl"
           }
          ],
          "scatterternary": [
           {
            "marker": {
             "colorbar": {
              "outlinewidth": 0,
              "ticks": ""
             }
            },
            "type": "scatterternary"
           }
          ],
          "surface": [
           {
            "colorbar": {
             "outlinewidth": 0,
             "ticks": ""
            },
            "colorscale": [
             [
              0,
              "#0d0887"
             ],
             [
              0.1111111111111111,
              "#46039f"
             ],
             [
              0.2222222222222222,
              "#7201a8"
             ],
             [
              0.3333333333333333,
              "#9c179e"
             ],
             [
              0.4444444444444444,
              "#bd3786"
             ],
             [
              0.5555555555555556,
              "#d8576b"
             ],
             [
              0.6666666666666666,
              "#ed7953"
             ],
             [
              0.7777777777777778,
              "#fb9f3a"
             ],
             [
              0.8888888888888888,
              "#fdca26"
             ],
             [
              1,
              "#f0f921"
             ]
            ],
            "type": "surface"
           }
          ],
          "table": [
           {
            "cells": {
             "fill": {
              "color": "#EBF0F8"
             },
             "line": {
              "color": "white"
             }
            },
            "header": {
             "fill": {
              "color": "#C8D4E3"
             },
             "line": {
              "color": "white"
             }
            },
            "type": "table"
           }
          ]
         },
         "layout": {
          "annotationdefaults": {
           "arrowcolor": "#2a3f5f",
           "arrowhead": 0,
           "arrowwidth": 1
          },
          "autotypenumbers": "strict",
          "coloraxis": {
           "colorbar": {
            "outlinewidth": 0,
            "ticks": ""
           }
          },
          "colorscale": {
           "diverging": [
            [
             0,
             "#8e0152"
            ],
            [
             0.1,
             "#c51b7d"
            ],
            [
             0.2,
             "#de77ae"
            ],
            [
             0.3,
             "#f1b6da"
            ],
            [
             0.4,
             "#fde0ef"
            ],
            [
             0.5,
             "#f7f7f7"
            ],
            [
             0.6,
             "#e6f5d0"
            ],
            [
             0.7,
             "#b8e186"
            ],
            [
             0.8,
             "#7fbc41"
            ],
            [
             0.9,
             "#4d9221"
            ],
            [
             1,
             "#276419"
            ]
           ],
           "sequential": [
            [
             0,
             "#0d0887"
            ],
            [
             0.1111111111111111,
             "#46039f"
            ],
            [
             0.2222222222222222,
             "#7201a8"
            ],
            [
             0.3333333333333333,
             "#9c179e"
            ],
            [
             0.4444444444444444,
             "#bd3786"
            ],
            [
             0.5555555555555556,
             "#d8576b"
            ],
            [
             0.6666666666666666,
             "#ed7953"
            ],
            [
             0.7777777777777778,
             "#fb9f3a"
            ],
            [
             0.8888888888888888,
             "#fdca26"
            ],
            [
             1,
             "#f0f921"
            ]
           ],
           "sequentialminus": [
            [
             0,
             "#0d0887"
            ],
            [
             0.1111111111111111,
             "#46039f"
            ],
            [
             0.2222222222222222,
             "#7201a8"
            ],
            [
             0.3333333333333333,
             "#9c179e"
            ],
            [
             0.4444444444444444,
             "#bd3786"
            ],
            [
             0.5555555555555556,
             "#d8576b"
            ],
            [
             0.6666666666666666,
             "#ed7953"
            ],
            [
             0.7777777777777778,
             "#fb9f3a"
            ],
            [
             0.8888888888888888,
             "#fdca26"
            ],
            [
             1,
             "#f0f921"
            ]
           ]
          },
          "colorway": [
           "#636efa",
           "#EF553B",
           "#00cc96",
           "#ab63fa",
           "#FFA15A",
           "#19d3f3",
           "#FF6692",
           "#B6E880",
           "#FF97FF",
           "#FECB52"
          ],
          "font": {
           "color": "#2a3f5f"
          },
          "geo": {
           "bgcolor": "white",
           "lakecolor": "white",
           "landcolor": "white",
           "showlakes": true,
           "showland": true,
           "subunitcolor": "#C8D4E3"
          },
          "hoverlabel": {
           "align": "left"
          },
          "hovermode": "closest",
          "mapbox": {
           "style": "light"
          },
          "paper_bgcolor": "white",
          "plot_bgcolor": "white",
          "polar": {
           "angularaxis": {
            "gridcolor": "#EBF0F8",
            "linecolor": "#EBF0F8",
            "ticks": ""
           },
           "bgcolor": "white",
           "radialaxis": {
            "gridcolor": "#EBF0F8",
            "linecolor": "#EBF0F8",
            "ticks": ""
           }
          },
          "scene": {
           "xaxis": {
            "backgroundcolor": "white",
            "gridcolor": "#DFE8F3",
            "gridwidth": 2,
            "linecolor": "#EBF0F8",
            "showbackground": true,
            "ticks": "",
            "zerolinecolor": "#EBF0F8"
           },
           "yaxis": {
            "backgroundcolor": "white",
            "gridcolor": "#DFE8F3",
            "gridwidth": 2,
            "linecolor": "#EBF0F8",
            "showbackground": true,
            "ticks": "",
            "zerolinecolor": "#EBF0F8"
           },
           "zaxis": {
            "backgroundcolor": "white",
            "gridcolor": "#DFE8F3",
            "gridwidth": 2,
            "linecolor": "#EBF0F8",
            "showbackground": true,
            "ticks": "",
            "zerolinecolor": "#EBF0F8"
           }
          },
          "shapedefaults": {
           "line": {
            "color": "#2a3f5f"
           }
          },
          "ternary": {
           "aaxis": {
            "gridcolor": "#DFE8F3",
            "linecolor": "#A2B1C6",
            "ticks": ""
           },
           "baxis": {
            "gridcolor": "#DFE8F3",
            "linecolor": "#A2B1C6",
            "ticks": ""
           },
           "bgcolor": "white",
           "caxis": {
            "gridcolor": "#DFE8F3",
            "linecolor": "#A2B1C6",
            "ticks": ""
           }
          },
          "title": {
           "x": 0.05
          },
          "xaxis": {
           "automargin": true,
           "gridcolor": "#EBF0F8",
           "linecolor": "#EBF0F8",
           "ticks": "",
           "title": {
            "standoff": 15
           },
           "zerolinecolor": "#EBF0F8",
           "zerolinewidth": 2
          },
          "yaxis": {
           "automargin": true,
           "gridcolor": "#EBF0F8",
           "linecolor": "#EBF0F8",
           "ticks": "",
           "title": {
            "standoff": 15
           },
           "zerolinecolor": "#EBF0F8",
           "zerolinewidth": 2
          }
         }
        },
        "title": {
         "font": {
          "size": 12
         }
        },
        "width": 700,
        "xaxis": {
         "autorange": true,
         "linewidth": 1.5,
         "mirror": true,
         "range": [
          "2016-01-17 01:35:08.6663",
          "2016-02-20 22:24:51.3337"
         ],
         "rangeselector": {
          "buttons": [
           {
            "count": 7,
            "label": "1w",
            "step": "day",
            "stepmode": "backward"
           },
           {
            "count": 1,
            "label": "1m",
            "step": "month",
            "stepmode": "backward"
           },
           {
            "count": 6,
            "label": "6m",
            "step": "month",
            "stepmode": "backward"
           },
           {
            "count": 1,
            "label": "1y",
            "step": "year",
            "stepmode": "backward"
           },
           {
            "step": "all"
           }
          ]
         },
         "rangeslider": {
          "autorange": true,
          "range": [
           "2016-01-17 01:35:08.6663",
           "2016-02-20 22:24:51.3337"
          ],
          "visible": true,
          "yaxis": {
           "_template": null,
           "rangemode": "match"
          }
         },
         "showline": true,
         "title": {
          "text": "Date"
         },
         "type": "date"
        },
        "yaxis": {
         "autorange": true,
         "linewidth": 1.5,
         "mirror": true,
         "range": [
          1722.739360376551,
          3679.1361528455286
         ],
         "showline": true,
         "title": {
          "text": "Count"
         },
         "type": "linear"
        }
       }
      },
      "image/png": "[encoded data removed]",
      "text/html": [
       "<div>                            <div id=\"b9451a9a-5235-459f-bc27-8eceb15e5b0f\" class=\"plotly-graph-div\" style=\"height:420px; width:700px;\"></div>            <script type=\"text/javascript\">                require([\"plotly\"], function(Plotly) {                    window.PLOTLYENV=window.PLOTLYENV || {};                                    if (document.getElementById(\"b9451a9a-5235-459f-bc27-8eceb15e5b0f\")) {                    Plotly.newPlot(                        \"b9451a9a-5235-459f-bc27-8eceb15e5b0f\",                        [{\"fill\":\"none\",\"line\":{\"color\":\"rgba(45, 146, 255, 1.0)\",\"width\":2},\"mode\":\"lines\",\"name\":\"yhat1\",\"x\":[\"2016-01-19T00:00:00\",\"2016-01-20T00:00:00\",\"2016-01-21T00:00:00\",\"2016-01-22T00:00:00\",\"2016-01-23T00:00:00\",\"2016-01-24T00:00:00\",\"2016-01-25T00:00:00\",\"2016-01-26T00:00:00\",\"2016-01-27T00:00:00\",\"2016-01-28T00:00:00\",\"2016-01-29T00:00:00\",\"2016-01-30T00:00:00\",\"2016-01-31T00:00:00\",\"2016-02-01T00:00:00\",\"2016-02-02T00:00:00\",\"2016-02-03T00:00:00\",\"2016-02-04T00:00:00\",\"2016-02-05T00:00:00\",\"2016-02-06T00:00:00\",\"2016-02-07T00:00:00\",\"2016-02-08T00:00:00\",\"2016-02-09T00:00:00\",\"2016-02-10T00:00:00\",\"2016-02-11T00:00:00\",\"2016-02-12T00:00:00\",\"2016-02-13T00:00:00\",\"2016-02-14T00:00:00\",\"2016-02-15T00:00:00\",\"2016-02-16T00:00:00\",\"2016-02-17T00:00:00\",\"2016-02-18T00:00:00\",\"2016-02-19T00:00:00\"],\"y\":[3174.5303,3122.211,2960.1697,2676.113,1820.5592,1960.4376,2994.97,3190.7146,3138.3132,2976.2778,2693.3213,1837.5127,1976.5511,3011.3472,3207.034,3154.7153,2992.4448,2708.5815,1853.3341,1991.8107,3027.251,3223.4624,3170.9512,3008.8223,2724.6868,1869.7218,2009.3873,3043.6284,3239.5117,3187.1868,3025.1416,2741.8958],\"type\":\"scatter\"},{\"marker\":{\"color\":\"black\",\"size\":4},\"mode\":\"markers\",\"name\":\"Actual\",\"x\":[\"2016-01-19T00:00:00\",\"2016-01-20T00:00:00\",\"2016-01-21T00:00:00\",\"2016-01-22T00:00:00\",\"2016-01-23T00:00:00\",\"2016-01-24T00:00:00\",\"2016-01-25T00:00:00\",\"2016-01-26T00:00:00\",\"2016-01-27T00:00:00\",\"2016-01-28T00:00:00\",\"2016-01-29T00:00:00\",\"2016-01-30T00:00:00\",\"2016-01-31T00:00:00\",\"2016-02-01T00:00:00\",\"2016-02-02T00:00:00\",\"2016-02-03T00:00:00\",\"2016-02-04T00:00:00\",\"2016-02-05T00:00:00\",\"2016-02-06T00:00:00\",\"2016-02-07T00:00:00\",\"2016-02-08T00:00:00\",\"2016-02-09T00:00:00\",\"2016-02-10T00:00:00\",\"2016-02-11T00:00:00\",\"2016-02-12T00:00:00\",\"2016-02-13T00:00:00\",\"2016-02-14T00:00:00\",\"2016-02-15T00:00:00\",\"2016-02-16T00:00:00\",\"2016-02-17T00:00:00\",\"2016-02-18T00:00:00\",\"2016-02-19T00:00:00\"],\"y\":[3389.0,3559.0,null,null,null,null,null,null,null,null,null,null,null,null,null,null,null,null,null,null,null,null,null,null,null,null,null,null,null,null,null,null],\"type\":\"scatter\"}],                        {\"autosize\":true,\"font\":{\"size\":10},\"height\":420,\"hovermode\":\"x unified\",\"margin\":{\"b\":0,\"l\":0,\"pad\":0,\"r\":10,\"t\":10},\"showlegend\":true,\"template\":{\"data\":{\"barpolar\":[{\"marker\":{\"line\":{\"color\":\"white\",\"width\":0.5},\"pattern\":{\"fillmode\":\"overlay\",\"size\":10,\"solidity\":0.2}},\"type\":\"barpolar\"}],\"bar\":[{\"error_x\":{\"color\":\"#2a3f5f\"},\"error_y\":{\"color\":\"#2a3f5f\"},\"marker\":{\"line\":{\"color\":\"white\",\"width\":0.5},\"pattern\":{\"fillmode\":\"overlay\",\"size\":10,\"solidity\":0.2}},\"type\":\"bar\"}],\"carpet\":[{\"aaxis\":{\"endlinecolor\":\"#2a3f5f\",\"gridcolor\":\"#C8D4E3\",\"linecolor\":\"#C8D4E3\",\"minorgridcolor\":\"#C8D4E3\",\"startlinecolor\":\"#2a3f5f\"},\"baxis\":{\"endlinecolor\":\"#2a3f5f\",\"gridcolor\":\"#C8D4E3\",\"linecolor\":\"#C8D4E3\",\"minorgridcolor\":\"#C8D4E3\",\"startlinecolor\":\"#2a3f5f\"},\"type\":\"carpet\"}],\"choropleth\":[{\"colorbar\":{\"outlinewidth\":0,\"ticks\":\"\"},\"type\":\"choropleth\"}],\"contourcarpet\":[{\"colorbar\":{\"outlinewidth\":0,\"ticks\":\"\"},\"type\":\"contourcarpet\"}],\"contour\":[{\"colorbar\":{\"outlinewidth\":0,\"ticks\":\"\"},\"colorscale\":[[0.0,\"#0d0887\"],[0.1111111111111111,\"#46039f\"],[0.2222222222222222,\"#7201a8\"],[0.3333333333333333,\"#9c179e\"],[0.4444444444444444,\"#bd3786\"],[0.5555555555555556,\"#d8576b\"],[0.6666666666666666,\"#ed7953\"],[0.7777777777777778,\"#fb9f3a\"],[0.8888888888888888,\"#fdca26\"],[1.0,\"#f0f921\"]],\"type\":\"contour\"}],\"heatmapgl\":[{\"colorbar\":{\"outlinewidth\":0,\"ticks\":\"\"},\"colorscale\":[[0.0,\"#0d0887\"],[0.1111111111111111,\"#46039f\"],[0.2222222222222222,\"#7201a8\"],[0.3333333333333333,\"#9c179e\"],[0.4444444444444444,\"#bd3786\"],[0.5555555555555556,\"#d8576b\"],[0.6666666666666666,\"#ed7953\"],[0.7777777777777778,\"#fb9f3a\"],[0.8888888888888888,\"#fdca26\"],[1.0,\"#f0f921\"]],\"type\":\"heatmapgl\"}],\"heatmap\":[{\"colorbar\":{\"outlinewidth\":0,\"ticks\":\"\"},\"colorscale\":[[0.0,\"#0d0887\"],[0.1111111111111111,\"#46039f\"],[0.2222222222222222,\"#7201a8\"],[0.3333333333333333,\"#9c179e\"],[0.4444444444444444,\"#bd3786\"],[0.5555555555555556,\"#d8576b\"],[0.6666666666666666,\"#ed7953\"],[0.7777777777777778,\"#fb9f3a\"],[0.8888888888888888,\"#fdca26\"],[1.0,\"#f0f921\"]],\"type\":\"heatmap\"}],\"histogram2dcontour\":[{\"colorbar\":{\"outlinewidth\":0,\"ticks\":\"\"},\"colorscale\":[[0.0,\"#0d0887\"],[0.1111111111111111,\"#46039f\"],[0.2222222222222222,\"#7201a8\"],[0.3333333333333333,\"#9c179e\"],[0.4444444444444444,\"#bd3786\"],[0.5555555555555556,\"#d8576b\"],[0.6666666666666666,\"#ed7953\"],[0.7777777777777778,\"#fb9f3a\"],[0.8888888888888888,\"#fdca26\"],[1.0,\"#f0f921\"]],\"type\":\"histogram2dcontour\"}],\"histogram2d\":[{\"colorbar\":{\"outlinewidth\":0,\"ticks\":\"\"},\"colorscale\":[[0.0,\"#0d0887\"],[0.1111111111111111,\"#46039f\"],[0.2222222222222222,\"#7201a8\"],[0.3333333333333333,\"#9c179e\"],[0.4444444444444444,\"#bd3786\"],[0.5555555555555556,\"#d8576b\"],[0.6666666666666666,\"#ed7953\"],[0.7777777777777778,\"#fb9f3a\"],[0.8888888888888888,\"#fdca26\"],[1.0,\"#f0f921\"]],\"type\":\"histogram2d\"}],\"histogram\":[{\"marker\":{\"pattern\":{\"fillmode\":\"overlay\",\"size\":10,\"solidity\":0.2}},\"type\":\"histogram\"}],\"mesh3d\":[{\"colorbar\":{\"outlinewidth\":0,\"ticks\":\"\"},\"type\":\"mesh3d\"}],\"parcoords\":[{\"line\":{\"colorbar\":{\"outlinewidth\":0,\"ticks\":\"\"}},\"type\":\"parcoords\"}],\"pie\":[{\"automargin\":true,\"type\":\"pie\"}],\"scatter3d\":[{\"line\":{\"colorbar\":{\"outlinewidth\":0,\"ticks\":\"\"}},\"marker\":{\"colorbar\":{\"outlinewidth\":0,\"ticks\":\"\"}},\"type\":\"scatter3d\"}],\"scattercarpet\":[{\"marker\":{\"colorbar\":{\"outlinewidth\":0,\"ticks\":\"\"}},\"type\":\"scattercarpet\"}],\"scattergeo\":[{\"marker\":{\"colorbar\":{\"outlinewidth\":0,\"ticks\":\"\"}},\"type\":\"scattergeo\"}],\"scattergl\":[{\"marker\":{\"colorbar\":{\"outlinewidth\":0,\"ticks\":\"\"}},\"type\":\"scattergl\"}],\"scattermapbox\":[{\"marker\":{\"colorbar\":{\"outlinewidth\":0,\"ticks\":\"\"}},\"type\":\"scattermapbox\"}],\"scatterpolargl\":[{\"marker\":{\"colorbar\":{\"outlinewidth\":0,\"ticks\":\"\"}},\"type\":\"scatterpolargl\"}],\"scatterpolar\":[{\"marker\":{\"colorbar\":{\"outlinewidth\":0,\"ticks\":\"\"}},\"type\":\"scatterpolar\"}],\"scatter\":[{\"fillpattern\":{\"fillmode\":\"overlay\",\"size\":10,\"solidity\":0.2},\"type\":\"scatter\"}],\"scatterternary\":[{\"marker\":{\"colorbar\":{\"outlinewidth\":0,\"ticks\":\"\"}},\"type\":\"scatterternary\"}],\"surface\":[{\"colorbar\":{\"outlinewidth\":0,\"ticks\":\"\"},\"colorscale\":[[0.0,\"#0d0887\"],[0.1111111111111111,\"#46039f\"],[0.2222222222222222,\"#7201a8\"],[0.3333333333333333,\"#9c179e\"],[0.4444444444444444,\"#bd3786\"],[0.5555555555555556,\"#d8576b\"],[0.6666666666666666,\"#ed7953\"],[0.7777777777777778,\"#fb9f3a\"],[0.8888888888888888,\"#fdca26\"],[1.0,\"#f0f921\"]],\"type\":\"surface\"}],\"table\":[{\"cells\":{\"fill\":{\"color\":\"#EBF0F8\"},\"line\":{\"color\":\"white\"}},\"header\":{\"fill\":{\"color\":\"#C8D4E3\"},\"line\":{\"color\":\"white\"}},\"type\":\"table\"}]},\"layout\":{\"annotationdefaults\":{\"arrowcolor\":\"#2a3f5f\",\"arrowhead\":0,\"arrowwidth\":1},\"autotypenumbers\":\"strict\",\"coloraxis\":{\"colorbar\":{\"outlinewidth\":0,\"ticks\":\"\"}},\"colorscale\":{\"diverging\":[[0,\"#8e0152\"],[0.1,\"#c51b7d\"],[0.2,\"#de77ae\"],[0.3,\"#f1b6da\"],[0.4,\"#fde0ef\"],[0.5,\"#f7f7f7\"],[0.6,\"#e6f5d0\"],[0.7,\"#b8e186\"],[0.8,\"#7fbc41\"],[0.9,\"#4d9221\"],[1,\"#276419\"]],\"sequential\":[[0.0,\"#0d0887\"],[0.1111111111111111,\"#46039f\"],[0.2222222222222222,\"#7201a8\"],[0.3333333333333333,\"#9c179e\"],[0.4444444444444444,\"#bd3786\"],[0.5555555555555556,\"#d8576b\"],[0.6666666666666666,\"#ed7953\"],[0.7777777777777778,\"#fb9f3a\"],[0.8888888888888888,\"#fdca26\"],[1.0,\"#f0f921\"]],\"sequentialminus\":[[0.0,\"#0d0887\"],[0.1111111111111111,\"#46039f\"],[0.2222222222222222,\"#7201a8\"],[0.3333333333333333,\"#9c179e\"],[0.4444444444444444,\"#bd3786\"],[0.5555555555555556,\"#d8576b\"],[0.6666666666666666,\"#ed7953\"],[0.7777777777777778,\"#fb9f3a\"],[0.8888888888888888,\"#fdca26\"],[1.0,\"#f0f921\"]]},\"colorway\":[\"#636efa\",\"#EF553B\",\"#00cc96\",\"#ab63fa\",\"#FFA15A\",\"#19d3f3\",\"#FF6692\",\"#B6E880\",\"#FF97FF\",\"#FECB52\"],\"font\":{\"color\":\"#2a3f5f\"},\"geo\":{\"bgcolor\":\"white\",\"lakecolor\":\"white\",\"landcolor\":\"white\",\"showlakes\":true,\"showland\":true,\"subunitcolor\":\"#C8D4E3\"},\"hoverlabel\":{\"align\":\"left\"},\"hovermode\":\"closest\",\"mapbox\":{\"style\":\"light\"},\"paper_bgcolor\":\"white\",\"plot_bgcolor\":\"white\",\"polar\":{\"angularaxis\":{\"gridcolor\":\"#EBF0F8\",\"linecolor\":\"#EBF0F8\",\"ticks\":\"\"},\"bgcolor\":\"white\",\"radialaxis\":{\"gridcolor\":\"#EBF0F8\",\"linecolor\":\"#EBF0F8\",\"ticks\":\"\"}},\"scene\":{\"xaxis\":{\"backgroundcolor\":\"white\",\"gridcolor\":\"#DFE8F3\",\"gridwidth\":2,\"linecolor\":\"#EBF0F8\",\"showbackground\":true,\"ticks\":\"\",\"zerolinecolor\":\"#EBF0F8\"},\"yaxis\":{\"backgroundcolor\":\"white\",\"gridcolor\":\"#DFE8F3\",\"gridwidth\":2,\"linecolor\":\"#EBF0F8\",\"showbackground\":true,\"ticks\":\"\",\"zerolinecolor\":\"#EBF0F8\"},\"zaxis\":{\"backgroundcolor\":\"white\",\"gridcolor\":\"#DFE8F3\",\"gridwidth\":2,\"linecolor\":\"#EBF0F8\",\"showbackground\":true,\"ticks\":\"\",\"zerolinecolor\":\"#EBF0F8\"}},\"shapedefaults\":{\"line\":{\"color\":\"#2a3f5f\"}},\"ternary\":{\"aaxis\":{\"gridcolor\":\"#DFE8F3\",\"linecolor\":\"#A2B1C6\",\"ticks\":\"\"},\"baxis\":{\"gridcolor\":\"#DFE8F3\",\"linecolor\":\"#A2B1C6\",\"ticks\":\"\"},\"bgcolor\":\"white\",\"caxis\":{\"gridcolor\":\"#DFE8F3\",\"linecolor\":\"#A2B1C6\",\"ticks\":\"\"}},\"title\":{\"x\":0.05},\"xaxis\":{\"automargin\":true,\"gridcolor\":\"#EBF0F8\",\"linecolor\":\"#EBF0F8\",\"ticks\":\"\",\"title\":{\"standoff\":15},\"zerolinecolor\":\"#EBF0F8\",\"zerolinewidth\":2},\"yaxis\":{\"automargin\":true,\"gridcolor\":\"#EBF0F8\",\"linecolor\":\"#EBF0F8\",\"ticks\":\"\",\"title\":{\"standoff\":15},\"zerolinecolor\":\"#EBF0F8\",\"zerolinewidth\":2}}},\"title\":{\"font\":{\"size\":12}},\"width\":700,\"xaxis\":{\"linewidth\":1.5,\"mirror\":true,\"rangeselector\":{\"buttons\":[{\"count\":7,\"label\":\"1w\",\"step\":\"day\",\"stepmode\":\"backward\"},{\"count\":1,\"label\":\"1m\",\"step\":\"month\",\"stepmode\":\"backward\"},{\"count\":6,\"label\":\"6m\",\"step\":\"month\",\"stepmode\":\"backward\"},{\"count\":1,\"label\":\"1y\",\"step\":\"year\",\"stepmode\":\"backward\"},{\"step\":\"all\"}]},\"rangeslider\":{\"visible\":true},\"showline\":true,\"title\":{\"text\":\"Date\"},\"type\":\"date\"},\"yaxis\":{\"linewidth\":1.5,\"mirror\":true,\"showline\":true,\"title\":{\"text\":\"Count\"}}},                        {\"responsive\": true}                    ).then(function(){\n",
       "                            \n",
       "var gd = document.getElementById('b9451a9a-5235-459f-bc27-8eceb15e5b0f');\n",
       "var x = new MutationObserver(function (mutations, observer) {{\n",
       "        var display = window.getComputedStyle(gd).display;\n",
       "        if (!display || display === 'none') {{\n",
       "            console.log([gd, 'removed!']);\n",
       "            Plotly.purge(gd);\n",
       "            observer.disconnect();\n",
       "        }}\n",
       "}});\n",
       "\n",
       "// Listen for the removal of the full notebook cells\n",
       "var notebookContainer = gd.closest('#notebook-container');\n",
       "if (notebookContainer) {{\n",
       "    x.observe(notebookContainer, {childList: true});\n",
       "}}\n",
       "\n",
       "// Listen for the clearing of the current output cell\n",
       "var outputEl = gd.closest('.output');\n",
       "if (outputEl) {{\n",
       "    x.observe(outputEl, {childList: true});\n",
       "}}\n",
       "\n",
       "                        })                };                });            </script>        </div>"
      ]
     },
     "metadata": {},
     "output_type": "display_data"
    },
    {
     "data": {
      "text/plain": [
       "<Figure size 1800x600 with 0 Axes>"
      ]
     },
     "metadata": {},
     "output_type": "display_data"
    }
   ],
   "source": [
    "#plotting Count forecast\n",
    "plt.figure(figsize=(18, 6))\n",
    "model.plot(forecast, xlabel = 'Date', ylabel = 'Count')"
   ]
  },
  {
   "cell_type": "code",
   "execution_count": 192,
   "id": "1672d97b-c9d2-47a0-94be-59bc87d1dc2b",
   "metadata": {},
   "outputs": [
    {
     "name": "stderr",
     "output_type": "stream",
     "text": [
      "ERROR - (NP.plotly.plot_parameters) - plotly-resampler is not installed. Please install it to use the resampler.\n"
     ]
    },
    {
     "data": {
      "application/vnd.plotly.v1+json": {
       "config": {
        "plotlyServerURL": "https://plot.ly"
       },
       "data": [
        {
         "fill": "none",
         "line": {
          "color": "#2d92ff",
          "width": 2
         },
         "mode": "lines",
         "name": "Trend",
         "type": "scatter",
         "x": [
          "2015-01-01T00:00:00",
          "2015-01-02T00:00:00",
          "2015-01-03T00:00:00",
          "2015-01-04T00:00:00",
          "2015-01-05T00:00:00",
          "2015-01-06T00:00:00",
          "2015-01-07T00:00:00",
          "2015-01-08T00:00:00",
          "2015-01-09T00:00:00",
          "2015-01-10T00:00:00",
          "2015-01-11T00:00:00",
          "2015-01-12T00:00:00",
          "2015-01-13T00:00:00",
          "2015-01-14T00:00:00",
          "2015-01-15T00:00:00",
          "2015-01-16T00:00:00",
          "2015-01-17T00:00:00",
          "2015-01-18T00:00:00",
          "2015-01-19T00:00:00",
          "2015-01-20T00:00:00",
          "2015-01-21T00:00:00",
          "2015-01-22T00:00:00",
          "2015-01-23T00:00:00",
          "2015-01-24T00:00:00",
          "2015-01-25T00:00:00",
          "2015-01-26T00:00:00",
          "2015-01-27T00:00:00",
          "2015-01-28T00:00:00",
          "2015-01-29T00:00:00",
          "2015-01-30T00:00:00",
          "2015-01-31T00:00:00",
          "2015-02-01T00:00:00",
          "2015-02-02T00:00:00",
          "2015-02-03T00:00:00",
          "2015-02-04T00:00:00",
          "2015-02-05T00:00:00",
          "2015-02-06T00:00:00",
          "2015-02-07T00:00:00",
          "2015-02-08T00:00:00",
          "2015-02-09T00:00:00",
          "2015-02-10T00:00:00",
          "2015-02-11T00:00:00",
          "2015-02-12T00:00:00",
          "2015-02-13T00:00:00",
          "2015-02-14T00:00:00",
          "2015-02-15T00:00:00",
          "2015-02-16T00:00:00",
          "2015-02-17T00:00:00",
          "2015-02-18T00:00:00",
          "2015-02-19T00:00:00",
          "2015-02-20T00:00:00",
          "2015-02-21T00:00:00",
          "2015-02-22T00:00:00",
          "2015-02-23T00:00:00",
          "2015-02-24T00:00:00",
          "2015-02-25T00:00:00",
          "2015-02-26T00:00:00",
          "2015-02-27T00:00:00",
          "2015-02-28T00:00:00",
          "2015-03-01T00:00:00",
          "2015-03-02T00:00:00",
          "2015-03-03T00:00:00",
          "2015-03-04T00:00:00",
          "2015-03-05T00:00:00",
          "2015-03-06T00:00:00",
          "2015-03-07T00:00:00",
          "2015-03-08T00:00:00",
          "2015-03-09T00:00:00",
          "2015-03-10T00:00:00",
          "2015-03-11T00:00:00",
          "2015-03-12T00:00:00",
          "2015-03-13T00:00:00",
          "2015-03-14T00:00:00",
          "2015-03-15T00:00:00",
          "2015-03-16T00:00:00",
          "2015-03-17T00:00:00",
          "2015-03-18T00:00:00",
          "2015-03-19T00:00:00",
          "2015-03-20T00:00:00",
          "2015-03-21T00:00:00",
          "2015-03-22T00:00:00",
          "2015-03-23T00:00:00",
          "2015-03-24T00:00:00",
          "2015-03-25T00:00:00",
          "2015-03-26T00:00:00",
          "2015-03-27T00:00:00",
          "2015-03-28T00:00:00",
          "2015-03-29T00:00:00",
          "2015-03-30T00:00:00",
          "2015-03-31T00:00:00",
          "2015-04-01T00:00:00",
          "2015-04-02T00:00:00",
          "2015-04-03T00:00:00",
          "2015-04-04T00:00:00",
          "2015-04-05T00:00:00",
          "2015-04-06T00:00:00",
          "2015-04-07T00:00:00",
          "2015-04-08T00:00:00",
          "2015-04-09T00:00:00",
          "2015-04-10T00:00:00",
          "2015-04-11T00:00:00",
          "2015-04-12T00:00:00",
          "2015-04-13T00:00:00",
          "2015-04-14T00:00:00",
          "2015-04-15T00:00:00",
          "2015-04-16T00:00:00",
          "2015-04-17T00:00:00",
          "2015-04-18T00:00:00",
          "2015-04-19T00:00:00",
          "2015-04-20T00:00:00",
          "2015-04-21T00:00:00",
          "2015-04-22T00:00:00",
          "2015-04-23T00:00:00",
          "2015-04-24T00:00:00",
          "2015-04-25T00:00:00",
          "2015-04-26T00:00:00",
          "2015-04-27T00:00:00",
          "2015-04-28T00:00:00",
          "2015-04-29T00:00:00",
          "2015-04-30T00:00:00",
          "2015-05-01T00:00:00",
          "2015-05-02T00:00:00",
          "2015-05-03T00:00:00",
          "2015-05-04T00:00:00",
          "2015-05-05T00:00:00",
          "2015-05-06T00:00:00",
          "2015-05-07T00:00:00",
          "2015-05-08T00:00:00",
          "2015-05-09T00:00:00",
          "2015-05-10T00:00:00",
          "2015-05-11T00:00:00",
          "2015-05-12T00:00:00",
          "2015-05-13T00:00:00",
          "2015-05-14T00:00:00",
          "2015-05-15T00:00:00",
          "2015-05-16T00:00:00",
          "2015-05-17T00:00:00",
          "2015-05-18T00:00:00",
          "2015-05-19T00:00:00",
          "2015-05-20T00:00:00",
          "2015-05-21T00:00:00",
          "2015-05-22T00:00:00",
          "2015-05-23T00:00:00",
          "2015-05-24T00:00:00",
          "2015-05-25T00:00:00",
          "2015-05-26T00:00:00",
          "2015-05-27T00:00:00",
          "2015-05-28T00:00:00",
          "2015-05-29T00:00:00",
          "2015-05-30T00:00:00",
          "2015-05-31T00:00:00",
          "2015-06-01T00:00:00",
          "2015-06-02T00:00:00",
          "2015-06-03T00:00:00",
          "2015-06-04T00:00:00",
          "2015-06-05T00:00:00",
          "2015-06-06T00:00:00",
          "2015-06-07T00:00:00",
          "2015-06-08T00:00:00",
          "2015-06-09T00:00:00",
          "2015-06-10T00:00:00",
          "2015-06-11T00:00:00",
          "2015-06-12T00:00:00",
          "2015-06-13T00:00:00",
          "2015-06-14T00:00:00",
          "2015-06-15T00:00:00",
          "2015-06-16T00:00:00",
          "2015-06-17T00:00:00",
          "2015-06-18T00:00:00",
          "2015-06-19T00:00:00",
          "2015-06-20T00:00:00",
          "2015-06-21T00:00:00",
          "2015-06-22T00:00:00",
          "2015-06-23T00:00:00",
          "2015-06-24T00:00:00",
          "2015-06-25T00:00:00",
          "2015-06-26T00:00:00",
          "2015-06-27T00:00:00",
          "2015-06-28T00:00:00",
          "2015-06-29T00:00:00",
          "2015-06-30T00:00:00",
          "2015-07-01T00:00:00",
          "2015-07-02T00:00:00",
          "2015-07-03T00:00:00",
          "2015-07-04T00:00:00",
          "2015-07-05T00:00:00",
          "2015-07-06T00:00:00",
          "2015-07-07T00:00:00",
          "2015-07-08T00:00:00",
          "2015-07-09T00:00:00",
          "2015-07-10T00:00:00",
          "2015-07-11T00:00:00",
          "2015-07-12T00:00:00",
          "2015-07-13T00:00:00",
          "2015-07-14T00:00:00",
          "2015-07-15T00:00:00",
          "2015-07-16T00:00:00",
          "2015-07-17T00:00:00",
          "2015-07-18T00:00:00",
          "2015-07-19T00:00:00",
          "2015-07-20T00:00:00",
          "2015-07-21T00:00:00",
          "2015-07-22T00:00:00",
          "2015-07-23T00:00:00",
          "2015-07-24T00:00:00",
          "2015-07-25T00:00:00",
          "2015-07-26T00:00:00",
          "2015-07-27T00:00:00",
          "2015-07-28T00:00:00",
          "2015-07-29T00:00:00",
          "2015-07-30T00:00:00",
          "2015-07-31T00:00:00",
          "2015-08-01T00:00:00",
          "2015-08-02T00:00:00",
          "2015-08-03T00:00:00",
          "2015-08-04T00:00:00",
          "2015-08-05T00:00:00",
          "2015-08-06T00:00:00",
          "2015-08-07T00:00:00",
          "2015-08-08T00:00:00",
          "2015-08-09T00:00:00",
          "2015-08-10T00:00:00",
          "2015-08-11T00:00:00",
          "2015-08-12T00:00:00",
          "2015-08-13T00:00:00",
          "2015-08-14T00:00:00",
          "2015-08-15T00:00:00",
          "2015-08-16T00:00:00",
          "2015-08-17T00:00:00",
          "2015-08-18T00:00:00",
          "2015-08-19T00:00:00",
          "2015-08-20T00:00:00",
          "2015-08-21T00:00:00",
          "2015-08-22T00:00:00",
          "2015-08-23T00:00:00",
          "2015-08-24T00:00:00",
          "2015-08-25T00:00:00",
          "2015-08-26T00:00:00",
          "2015-08-27T00:00:00",
          "2015-08-28T00:00:00",
          "2015-08-29T00:00:00",
          "2015-08-30T00:00:00",
          "2015-08-31T00:00:00",
          "2015-09-01T00:00:00",
          "2015-09-02T00:00:00",
          "2015-09-03T00:00:00",
          "2015-09-04T00:00:00",
          "2015-09-05T00:00:00",
          "2015-09-06T00:00:00",
          "2015-09-07T00:00:00",
          "2015-09-08T00:00:00",
          "2015-09-09T00:00:00",
          "2015-09-10T00:00:00",
          "2015-09-11T00:00:00",
          "2015-09-12T00:00:00",
          "2015-09-13T00:00:00",
          "2015-09-14T00:00:00",
          "2015-09-15T00:00:00",
          "2015-09-16T00:00:00",
          "2015-09-17T00:00:00",
          "2015-09-18T00:00:00",
          "2015-09-19T00:00:00",
          "2015-09-20T00:00:00",
          "2015-09-21T00:00:00",
          "2015-09-22T00:00:00",
          "2015-09-23T00:00:00",
          "2015-09-24T00:00:00",
          "2015-09-25T00:00:00",
          "2015-09-26T00:00:00",
          "2015-09-27T00:00:00",
          "2015-09-28T00:00:00",
          "2015-09-29T00:00:00",
          "2015-09-30T00:00:00",
          "2015-10-01T00:00:00",
          "2015-10-02T00:00:00",
          "2015-10-03T00:00:00",
          "2015-10-04T00:00:00",
          "2015-10-05T00:00:00",
          "2015-10-06T00:00:00",
          "2015-10-07T00:00:00",
          "2015-10-08T00:00:00",
          "2015-10-09T00:00:00",
          "2015-10-10T00:00:00",
          "2015-10-11T00:00:00",
          "2015-10-12T00:00:00",
          "2015-10-13T00:00:00",
          "2015-10-14T00:00:00",
          "2015-10-15T00:00:00",
          "2015-10-16T00:00:00",
          "2015-10-17T00:00:00",
          "2015-10-18T00:00:00",
          "2015-10-19T00:00:00",
          "2015-10-20T00:00:00",
          "2015-10-21T00:00:00",
          "2015-10-22T00:00:00",
          "2015-10-23T00:00:00",
          "2015-10-24T00:00:00",
          "2015-10-25T00:00:00",
          "2015-10-26T00:00:00",
          "2015-10-27T00:00:00",
          "2015-10-28T00:00:00",
          "2015-10-29T00:00:00",
          "2015-10-30T00:00:00",
          "2015-10-31T00:00:00",
          "2015-11-01T00:00:00",
          "2015-11-02T00:00:00",
          "2015-11-03T00:00:00",
          "2015-11-04T00:00:00",
          "2015-11-05T00:00:00",
          "2015-11-06T00:00:00",
          "2015-11-07T00:00:00",
          "2015-11-08T00:00:00",
          "2015-11-09T00:00:00",
          "2015-11-10T00:00:00",
          "2015-11-11T00:00:00",
          "2015-11-12T00:00:00",
          "2015-11-13T00:00:00",
          "2015-11-14T00:00:00",
          "2015-11-15T00:00:00",
          "2015-11-16T00:00:00",
          "2015-11-17T00:00:00",
          "2015-11-18T00:00:00",
          "2015-11-19T00:00:00",
          "2015-11-20T00:00:00",
          "2015-11-21T00:00:00",
          "2015-11-22T00:00:00",
          "2015-11-23T00:00:00",
          "2015-11-24T00:00:00",
          "2015-11-25T00:00:00",
          "2015-11-26T00:00:00",
          "2015-11-27T00:00:00",
          "2015-11-28T00:00:00",
          "2015-11-29T00:00:00",
          "2015-11-30T00:00:00",
          "2015-12-01T00:00:00",
          "2015-12-02T00:00:00",
          "2015-12-03T00:00:00",
          "2015-12-04T00:00:00",
          "2015-12-05T00:00:00",
          "2015-12-06T00:00:00",
          "2015-12-07T00:00:00",
          "2015-12-08T00:00:00",
          "2015-12-09T00:00:00",
          "2015-12-10T00:00:00",
          "2015-12-11T00:00:00",
          "2015-12-12T00:00:00",
          "2015-12-13T00:00:00",
          "2015-12-14T00:00:00",
          "2015-12-15T00:00:00",
          "2015-12-16T00:00:00",
          "2015-12-17T00:00:00",
          "2015-12-18T00:00:00",
          "2015-12-19T00:00:00",
          "2015-12-20T00:00:00",
          "2015-12-21T00:00:00",
          "2015-12-22T00:00:00",
          "2015-12-23T00:00:00",
          "2015-12-24T00:00:00",
          "2015-12-25T00:00:00",
          "2015-12-26T00:00:00",
          "2015-12-27T00:00:00",
          "2015-12-28T00:00:00",
          "2015-12-29T00:00:00",
          "2015-12-30T00:00:00",
          "2015-12-31T00:00:00",
          "2016-01-01T00:00:00",
          "2016-01-02T00:00:00",
          "2016-01-03T00:00:00",
          "2016-01-04T00:00:00",
          "2016-01-05T00:00:00",
          "2016-01-06T00:00:00",
          "2016-01-07T00:00:00",
          "2016-01-08T00:00:00",
          "2016-01-09T00:00:00",
          "2016-01-10T00:00:00",
          "2016-01-11T00:00:00",
          "2016-01-12T00:00:00",
          "2016-01-13T00:00:00",
          "2016-01-14T00:00:00",
          "2016-01-15T00:00:00",
          "2016-01-16T00:00:00",
          "2016-01-17T00:00:00",
          "2016-01-18T00:00:00",
          "2016-01-19T00:00:00",
          "2016-01-20T00:00:00"
         ],
         "xaxis": "x",
         "y": [
          2031.6864643156528,
          2037.6615366254466,
          2043.6366089352405,
          2049.6116812450346,
          2055.586753554828,
          2061.5618258646223,
          2067.5368981744164,
          2073.51197048421,
          2079.487042794004,
          2085.4621151037977,
          2091.437187413592,
          2097.412259723386,
          2103.3873320331795,
          2109.3624043429736,
          2115.3374766527672,
          2121.3125489625613,
          2127.2876212723554,
          2133.262693582149,
          2139.237765891943,
          2145.2128382017368,
          2151.187910511531,
          2157.162982821325,
          2163.1380551311186,
          2169.1131274409126,
          2175.0881997507063,
          2181.0632720605004,
          2187.0383443702945,
          2193.013416680088,
          2198.988488989882,
          2204.963561299676,
          2210.93863360947,
          2216.913705919264,
          2222.8887782290576,
          2228.8638505388517,
          2234.8389228486453,
          2240.8139951584394,
          2246.7890674682335,
          2252.764139778027,
          2258.739212087821,
          2264.714284397615,
          2270.689356707409,
          2276.664429017203,
          2282.6395013269967,
          2288.6145736367907,
          2294.5896459465844,
          2300.5647182563785,
          2306.5397905661725,
          2312.514862875966,
          2318.4899351857603,
          2324.465007495554,
          2330.440079805348,
          2336.415152115142,
          2339.288644002005,
          2341.3867058105766,
          2343.484767619148,
          2345.582829427719,
          2347.6808912362903,
          2349.7789530448613,
          2351.8770148534327,
          2353.975076662004,
          2356.073138470575,
          2358.171200279146,
          2360.269262087718,
          2362.367323896289,
          2364.4653857048597,
          2366.563447513431,
          2368.6615093220025,
          2370.7595711305735,
          2372.857632939145,
          2374.9556947477163,
          2377.053756556287,
          2379.1518183648586,
          2381.2498801734296,
          2383.347941982001,
          2385.4460037905724,
          2387.5440655991433,
          2389.6421274077143,
          2391.740189216286,
          2393.838251024857,
          2395.936312833428,
          2398.0343746419994,
          2400.132436450571,
          2402.2304982591418,
          2404.328560067713,
          2406.4266218762846,
          2408.5246836848555,
          2410.622745493427,
          2412.720807301998,
          2414.8188691105693,
          2416.9169309191407,
          2419.0149927277116,
          2421.1130545362826,
          2423.2111163448544,
          2425.3091781534254,
          2427.4072399619963,
          2429.5053017705677,
          2431.603363579139,
          2433.70142538771,
          2435.799487196281,
          2437.8975490048524,
          2439.9956108134243,
          2442.0936726219948,
          2444.191734430566,
          2441.5091392613945,
          2435.639240929484,
          2429.769342597574,
          2423.8994442656635,
          2418.029545933753,
          2412.1596476018426,
          2406.2897492699326,
          2400.419850938022,
          2394.5499526061117,
          2388.680054274201,
          2382.8101559422907,
          2376.9402576103807,
          2371.0703592784703,
          2365.20046094656,
          2359.3305626146494,
          2353.460664282739,
          2347.590765950829,
          2341.7208676189184,
          2335.850969287008,
          2329.9810709550975,
          2324.111172623187,
          2318.241274291277,
          2312.3713759593666,
          2306.501477627456,
          2300.6315792955456,
          2294.761680963635,
          2288.891782631725,
          2283.0218842998147,
          2277.1519859679042,
          2271.282087635994,
          2265.4121893040833,
          2259.5422909721733,
          2253.672392640263,
          2247.8024943083524,
          2241.932595976442,
          2236.0626976445315,
          2230.1927993126214,
          2224.322900980711,
          2218.4530026488005,
          2212.58310431689,
          2206.7132059849796,
          2200.8433076530696,
          2194.973409321159,
          2189.1035109892487,
          2183.233612657338,
          2177.3637143254277,
          2171.4938159935177,
          2165.6239176616073,
          2159.754019329697,
          2153.8841209977863,
          2148.014222665876,
          2143.9439228242727,
          2142.572948774579,
          2141.201974724885,
          2139.8310006751913,
          2138.460026625497,
          2137.089052575803,
          2135.7180785261094,
          2134.347104476415,
          2132.9761304267217,
          2131.605156377028,
          2130.2341823273337,
          2128.86320827764,
          2127.492234227946,
          2126.1212601782518,
          2124.750286128558,
          2123.379312078864,
          2122.0083380291703,
          2120.6373639794765,
          2119.2663899297827,
          2117.8954158800884,
          2116.5244418303946,
          2115.153467780701,
          2113.7824937310065,
          2112.411519681313,
          2111.0405456316194,
          2109.669571581925,
          2108.2985975322313,
          2106.9276234825375,
          2105.556649432843,
          2104.1856753831494,
          2102.8147013334556,
          2101.4437272837617,
          2100.072753234068,
          2098.701779184374,
          2097.33080513468,
          2095.959831084986,
          2094.588857035292,
          2093.217882985598,
          2091.8469089359046,
          2090.475934886211,
          2089.1049608365165,
          2087.7339867868227,
          2086.363012737129,
          2084.9920386874346,
          2083.621064637741,
          2082.250090588047,
          2080.879116538353,
          2079.5081424886594,
          2078.1371684389655,
          2076.7661943892713,
          2075.3952203395775,
          2075.457470496557,
          2081.2536246899517,
          2087.0497788833454,
          2092.845933076739,
          2098.6420872701333,
          2104.438241463527,
          2110.2343956569207,
          2116.030549850315,
          2121.8267040437086,
          2127.6228582371023,
          2133.4190124304964,
          2139.21516662389,
          2145.011320817284,
          2150.8074750106784,
          2156.603629204072,
          2162.3997833974654,
          2168.19593759086,
          2173.9920917842537,
          2179.7882459776474,
          2185.5844001710416,
          2191.3805543644353,
          2197.176708557829,
          2202.972862751223,
          2208.769016944617,
          2214.5651711380106,
          2220.3613253314047,
          2226.1574795247984,
          2231.953633718192,
          2237.7497879115867,
          2243.5459421049804,
          2249.3420962983737,
          2255.1382504917683,
          2260.934404685162,
          2266.7305588785557,
          2272.52671307195,
          2278.3228672653436,
          2284.1190214587373,
          2289.9151756521314,
          2295.711329845525,
          2301.507484038919,
          2307.303638232313,
          2313.0997924257067,
          2318.8959466191004,
          2324.692100812495,
          2330.4882550058887,
          2336.284409199282,
          2342.0805633926766,
          2347.8767175860703,
          2353.672871779464,
          2359.469025972858,
          2365.265180166252,
          2371.0613343596456,
          2373.382340240758,
          2375.7032182222233,
          2378.0240962036883,
          2380.3449741851537,
          2382.665852166619,
          2384.9867301480845,
          2387.30760812955,
          2389.628486111015,
          2391.94936409248,
          2394.2702420739456,
          2396.591120055411,
          2398.9119980368764,
          2401.2328760183414,
          2403.5537539998068,
          2405.874631981272,
          2408.1955099627376,
          2410.516387944203,
          2412.837265925668,
          2415.1581439071333,
          2417.4790218885987,
          2419.799899870064,
          2422.120777851529,
          2424.4416558329945,
          2426.76253381446,
          2429.0834117959253,
          2431.4042897773907,
          2433.7251677588556,
          2436.046045740321,
          2438.3669237217864,
          2440.687801703252,
          2443.008679684717,
          2445.329557666182,
          2447.6504356476476,
          2449.971313629113,
          2452.2921916105784,
          2454.6130695920438,
          2456.9339475735087,
          2459.254825554974,
          2461.5757035364395,
          2463.896581517905,
          2466.2174594993703,
          2468.5383374808353,
          2470.8592154623007,
          2473.180093443766,
          2475.5009714252315,
          2477.821849406697,
          2480.142727388162,
          2482.463605369627,
          2484.7844833510926,
          2487.105361332558,
          2489.4262393140234,
          2491.7471172954884,
          2494.0679952769538,
          2496.388873258419,
          2498.7097512398846,
          2501.03062922135,
          2503.351507202815,
          2505.6723851842803,
          2507.9932631657457,
          2510.314141147211,
          2512.6350191286765,
          2514.9558971101414,
          2517.276775091607,
          2519.5976530730723,
          2521.9185310545377,
          2524.239409036003,
          2526.560287017468,
          2528.8811649989334,
          2531.202042980399,
          2533.522920961864,
          2535.8437989433296,
          2538.1646769247945,
          2540.48555490626,
          2542.8064328877254,
          2545.1273108691908,
          2547.448188850656,
          2549.769066832121,
          2552.0899448135865,
          2554.410822795052,
          2556.7317007765173,
          2559.0525787579827,
          2561.3734567394476,
          2563.694334720913,
          2566.0152127023784,
          2568.336090683844,
          2570.6569686653093,
          2572.977846646774,
          2575.2987246282396,
          2577.619602609705,
          2579.9404805911704,
          2582.261358572636,
          2584.5822365541007,
          2586.903114535566,
          2589.2239925170315,
          2591.544870498497,
          2593.8657484799623,
          2596.1866264614273,
          2598.5075044428927,
          2600.828382424358,
          2603.1492604058235,
          2605.470138387289,
          2607.791016368754,
          2610.1118943502192,
          2612.4327723316846,
          2614.75365031315,
          2617.0745282946154,
          2619.3954062760804,
          2621.716284257546,
          2624.037162239011,
          2626.3580402204766,
          2628.678918201942,
          2630.999796183407,
          2633.3206741648723,
          2635.6415521463377,
          2637.962430127803,
          2640.2833081092685,
          2642.6041860907335,
          2644.925064072199,
          2647.2459420536643,
          2649.5668200351297,
          2651.887698016595,
          2654.20857599806,
          2656.5294539795254,
          2658.850331960991,
          2661.1712099424562,
          2663.4920879239216,
          2665.8129659053866,
          2668.133843886852
         ],
         "yaxis": "y"
        },
        {
         "marker": {
          "color": "#2d92ff"
         },
         "name": "Trend Rate Change",
         "type": "bar",
         "x": [
          "2015-01-01T00:00:00",
          "2015-02-21T04:48:00",
          "2015-04-13T09:36:00",
          "2015-06-03T14:24:00",
          "2015-07-24T19:12:00",
          "2015-09-14T00:00:00",
          "2016-01-20T00:00:00"
         ],
         "xaxis": "x2",
         "y": [
          1.070791482925415,
          -0.46253833174705505,
          -0.9506001472473145,
          0.5367343425750732,
          0.8550586700439453,
          -0.41461026668548584,
          0
         ],
         "yaxis": "y2"
        },
        {
         "fill": "none",
         "line": {
          "color": "#2d92ff",
          "width": 2
         },
         "mode": "lines",
         "name": "weekly",
         "type": "scatter",
         "x": [
          0,
          1,
          2,
          3,
          4,
          5,
          6,
          7,
          8,
          9,
          10,
          11,
          12,
          13,
          14,
          15,
          16,
          17,
          18,
          19,
          20,
          21,
          22,
          23,
          24,
          25,
          26,
          27,
          28,
          29,
          30,
          31,
          32,
          33,
          34,
          35,
          36,
          37,
          38,
          39,
          40,
          41,
          42,
          43,
          44,
          45,
          46,
          47,
          48,
          49,
          50,
          51,
          52,
          53,
          54,
          55,
          56,
          57,
          58,
          59,
          60,
          61,
          62,
          63,
          64,
          65,
          66,
          67,
          68,
          69,
          70,
          71,
          72,
          73,
          74,
          75,
          76,
          77,
          78,
          79,
          80,
          81,
          82,
          83,
          84,
          85,
          86,
          87,
          88,
          89,
          90,
          91,
          92,
          93,
          94,
          95,
          96,
          97,
          98,
          99,
          100,
          101,
          102,
          103,
          104,
          105,
          106,
          107,
          108,
          109,
          110,
          111,
          112,
          113,
          114,
          115,
          116,
          117,
          118,
          119,
          120,
          121,
          122,
          123,
          124,
          125,
          126,
          127,
          128,
          129,
          130,
          131,
          132,
          133,
          134,
          135,
          136,
          137,
          138,
          139,
          140,
          141,
          142,
          143,
          144,
          145,
          146,
          147,
          148,
          149,
          150,
          151,
          152,
          153,
          154,
          155,
          156,
          157,
          158,
          159,
          160,
          161,
          162,
          163,
          164,
          165,
          166,
          167
         ],
         "xaxis": "x3",
         "y": [
          -717.32294,
          -675.08966,
          -631.4588,
          -583.7773,
          -536.75183,
          -489.37686,
          -441.25974,
          -392.63937,
          -341.04156,
          -293.24942,
          -244.5629,
          -196.29985,
          -147.2348,
          -98.00939,
          -53.507793,
          -9.089486,
          33.957794,
          76.53706,
          115.21592,
          153.2413,
          191.20068,
          225.4772,
          258.22153,
          287.11993,
          315.09775,
          341.00586,
          364.04474,
          386.82593,
          406.24393,
          424.36075,
          440.17462,
          453.58942,
          466.32648,
          476.59106,
          485.6213,
          493.20633,
          499.19266,
          504.33517,
          507.99503,
          510.88696,
          512.8844,
          513.9716,
          514.43823,
          514.43713,
          513.923,
          512.9865,
          511.65414,
          510.43997,
          508.82538,
          507.22668,
          505.4139,
          503.5526,
          501.69537,
          499.82498,
          498.24692,
          496.39984,
          494.93628,
          493.47443,
          491.70572,
          490.51602,
          488.13065,
          486.5789,
          484.88354,
          482.76492,
          481.00974,
          478.05722,
          475.6188,
          472.9007,
          469.674,
          466.51266,
          462.54758,
          458.36066,
          453.967,
          449.21005,
          444.1876,
          438.6816,
          432.85825,
          426.43814,
          420.13315,
          413.39847,
          406.59848,
          399.37665,
          392.24112,
          384.6704,
          376.75876,
          369.06097,
          361.62192,
          354.19522,
          346.4586,
          338.6001,
          331.67313,
          324.26428,
          317.25052,
          309.8932,
          302.69662,
          296.26633,
          289.5572,
          283.16913,
          276.66208,
          269.89703,
          263.27316,
          256.70825,
          250.17699,
          243.29036,
          235.6896,
          227.84373,
          219.80385,
          211.41391,
          202.02626,
          191.40851,
          180.02754,
          168.23544,
          155.69469,
          141.47232,
          125.99966,
          109.22974,
          90.26861,
          71.397514,
          50.123627,
          27.492561,
          3.3302445,
          -21.50176,
          -48.505707,
          -78.72544,
          -109.06451,
          -141.6614,
          -173.89165,
          -208.3003,
          -245.88638,
          -282.71994,
          -319.5289,
          -358.10767,
          -398.5239,
          -440.45627,
          -480.5185,
          -519.76587,
          -559.82184,
          -600.9239,
          -640.4099,
          -678.0869,
          -715.60034,
          -753.6359,
          -789.73346,
          -823.157,
          -853.8229,
          -883.0273,
          -909.9591,
          -935.79535,
          -958.68646,
          -977.4144,
          -992.96936,
          -1005.73083,
          -1015.7086,
          -1021.8857,
          -1024.8368,
          -1024.2501,
          -1020.0358,
          -1012.2173,
          -1001.1226,
          -986.9255,
          -969.29614,
          -947.0726,
          -922.6258,
          -895.9296,
          -864.6945,
          -832.03937,
          -794.5357,
          -756.34283
         ],
         "yaxis": "y3"
        }
       ],
       "layout": {
        "autosize": true,
        "dragmode": "pan",
        "font": {
         "size": 10
        },
        "height": 630,
        "hovermode": "x unified",
        "margin": {
         "b": 0,
         "l": 0,
         "pad": 0,
         "r": 10,
         "t": 10
        },
        "showlegend": false,
        "template": {
         "data": {
          "bar": [
           {
            "error_x": {
             "color": "#2a3f5f"
            },
            "error_y": {
             "color": "#2a3f5f"
            },
            "marker": {
             "line": {
              "color": "white",
              "width": 0.5
             },
             "pattern": {
              "fillmode": "overlay",
              "size": 10,
              "solidity": 0.2
             }
            },
            "type": "bar"
           }
          ],
          "barpolar": [
           {
            "marker": {
             "line": {
              "color": "white",
              "width": 0.5
             },
             "pattern": {
              "fillmode": "overlay",
              "size": 10,
              "solidity": 0.2
             }
            },
            "type": "barpolar"
           }
          ],
          "carpet": [
           {
            "aaxis": {
             "endlinecolor": "#2a3f5f",
             "gridcolor": "#C8D4E3",
             "linecolor": "#C8D4E3",
             "minorgridcolor": "#C8D4E3",
             "startlinecolor": "#2a3f5f"
            },
            "baxis": {
             "endlinecolor": "#2a3f5f",
             "gridcolor": "#C8D4E3",
             "linecolor": "#C8D4E3",
             "minorgridcolor": "#C8D4E3",
             "startlinecolor": "#2a3f5f"
            },
            "type": "carpet"
           }
          ],
          "choropleth": [
           {
            "colorbar": {
             "outlinewidth": 0,
             "ticks": ""
            },
            "type": "choropleth"
           }
          ],
          "contour": [
           {
            "colorbar": {
             "outlinewidth": 0,
             "ticks": ""
            },
            "colorscale": [
             [
              0,
              "#0d0887"
             ],
             [
              0.1111111111111111,
              "#46039f"
             ],
             [
              0.2222222222222222,
              "#7201a8"
             ],
             [
              0.3333333333333333,
              "#9c179e"
             ],
             [
              0.4444444444444444,
              "#bd3786"
             ],
             [
              0.5555555555555556,
              "#d8576b"
             ],
             [
              0.6666666666666666,
              "#ed7953"
             ],
             [
              0.7777777777777778,
              "#fb9f3a"
             ],
             [
              0.8888888888888888,
              "#fdca26"
             ],
             [
              1,
              "#f0f921"
             ]
            ],
            "type": "contour"
           }
          ],
          "contourcarpet": [
           {
            "colorbar": {
             "outlinewidth": 0,
             "ticks": ""
            },
            "type": "contourcarpet"
           }
          ],
          "heatmap": [
           {
            "colorbar": {
             "outlinewidth": 0,
             "ticks": ""
            },
            "colorscale": [
             [
              0,
              "#0d0887"
             ],
             [
              0.1111111111111111,
              "#46039f"
             ],
             [
              0.2222222222222222,
              "#7201a8"
             ],
             [
              0.3333333333333333,
              "#9c179e"
             ],
             [
              0.4444444444444444,
              "#bd3786"
             ],
             [
              0.5555555555555556,
              "#d8576b"
             ],
             [
              0.6666666666666666,
              "#ed7953"
             ],
             [
              0.7777777777777778,
              "#fb9f3a"
             ],
             [
              0.8888888888888888,
              "#fdca26"
             ],
             [
              1,
              "#f0f921"
             ]
            ],
            "type": "heatmap"
           }
          ],
          "heatmapgl": [
           {
            "colorbar": {
             "outlinewidth": 0,
             "ticks": ""
            },
            "colorscale": [
             [
              0,
              "#0d0887"
             ],
             [
              0.1111111111111111,
              "#46039f"
             ],
             [
              0.2222222222222222,
              "#7201a8"
             ],
             [
              0.3333333333333333,
              "#9c179e"
             ],
             [
              0.4444444444444444,
              "#bd3786"
             ],
             [
              0.5555555555555556,
              "#d8576b"
             ],
             [
              0.6666666666666666,
              "#ed7953"
             ],
             [
              0.7777777777777778,
              "#fb9f3a"
             ],
             [
              0.8888888888888888,
              "#fdca26"
             ],
             [
              1,
              "#f0f921"
             ]
            ],
            "type": "heatmapgl"
           }
          ],
          "histogram": [
           {
            "marker": {
             "pattern": {
              "fillmode": "overlay",
              "size": 10,
              "solidity": 0.2
             }
            },
            "type": "histogram"
           }
          ],
          "histogram2d": [
           {
            "colorbar": {
             "outlinewidth": 0,
             "ticks": ""
            },
            "colorscale": [
             [
              0,
              "#0d0887"
             ],
             [
              0.1111111111111111,
              "#46039f"
             ],
             [
              0.2222222222222222,
              "#7201a8"
             ],
             [
              0.3333333333333333,
              "#9c179e"
             ],
             [
              0.4444444444444444,
              "#bd3786"
             ],
             [
              0.5555555555555556,
              "#d8576b"
             ],
             [
              0.6666666666666666,
              "#ed7953"
             ],
             [
              0.7777777777777778,
              "#fb9f3a"
             ],
             [
              0.8888888888888888,
              "#fdca26"
             ],
             [
              1,
              "#f0f921"
             ]
            ],
            "type": "histogram2d"
           }
          ],
          "histogram2dcontour": [
           {
            "colorbar": {
             "outlinewidth": 0,
             "ticks": ""
            },
            "colorscale": [
             [
              0,
              "#0d0887"
             ],
             [
              0.1111111111111111,
              "#46039f"
             ],
             [
              0.2222222222222222,
              "#7201a8"
             ],
             [
              0.3333333333333333,
              "#9c179e"
             ],
             [
              0.4444444444444444,
              "#bd3786"
             ],
             [
              0.5555555555555556,
              "#d8576b"
             ],
             [
              0.6666666666666666,
              "#ed7953"
             ],
             [
              0.7777777777777778,
              "#fb9f3a"
             ],
             [
              0.8888888888888888,
              "#fdca26"
             ],
             [
              1,
              "#f0f921"
             ]
            ],
            "type": "histogram2dcontour"
           }
          ],
          "mesh3d": [
           {
            "colorbar": {
             "outlinewidth": 0,
             "ticks": ""
            },
            "type": "mesh3d"
           }
          ],
          "parcoords": [
           {
            "line": {
             "colorbar": {
              "outlinewidth": 0,
              "ticks": ""
             }
            },
            "type": "parcoords"
           }
          ],
          "pie": [
           {
            "automargin": true,
            "type": "pie"
           }
          ],
          "scatter": [
           {
            "fillpattern": {
             "fillmode": "overlay",
             "size": 10,
             "solidity": 0.2
            },
            "type": "scatter"
           }
          ],
          "scatter3d": [
           {
            "line": {
             "colorbar": {
              "outlinewidth": 0,
              "ticks": ""
             }
            },
            "marker": {
             "colorbar": {
              "outlinewidth": 0,
              "ticks": ""
             }
            },
            "type": "scatter3d"
           }
          ],
          "scattercarpet": [
           {
            "marker": {
             "colorbar": {
              "outlinewidth": 0,
              "ticks": ""
             }
            },
            "type": "scattercarpet"
           }
          ],
          "scattergeo": [
           {
            "marker": {
             "colorbar": {
              "outlinewidth": 0,
              "ticks": ""
             }
            },
            "type": "scattergeo"
           }
          ],
          "scattergl": [
           {
            "marker": {
             "colorbar": {
              "outlinewidth": 0,
              "ticks": ""
             }
            },
            "type": "scattergl"
           }
          ],
          "scattermapbox": [
           {
            "marker": {
             "colorbar": {
              "outlinewidth": 0,
              "ticks": ""
             }
            },
            "type": "scattermapbox"
           }
          ],
          "scatterpolar": [
           {
            "marker": {
             "colorbar": {
              "outlinewidth": 0,
              "ticks": ""
             }
            },
            "type": "scatterpolar"
           }
          ],
          "scatterpolargl": [
           {
            "marker": {
             "colorbar": {
              "outlinewidth": 0,
              "ticks": ""
             }
            },
            "type": "scatterpolargl"
           }
          ],
          "scatterternary": [
           {
            "marker": {
             "colorbar": {
              "outlinewidth": 0,
              "ticks": ""
             }
            },
            "type": "scatterternary"
           }
          ],
          "surface": [
           {
            "colorbar": {
             "outlinewidth": 0,
             "ticks": ""
            },
            "colorscale": [
             [
              0,
              "#0d0887"
             ],
             [
              0.1111111111111111,
              "#46039f"
             ],
             [
              0.2222222222222222,
              "#7201a8"
             ],
             [
              0.3333333333333333,
              "#9c179e"
             ],
             [
              0.4444444444444444,
              "#bd3786"
             ],
             [
              0.5555555555555556,
              "#d8576b"
             ],
             [
              0.6666666666666666,
              "#ed7953"
             ],
             [
              0.7777777777777778,
              "#fb9f3a"
             ],
             [
              0.8888888888888888,
              "#fdca26"
             ],
             [
              1,
              "#f0f921"
             ]
            ],
            "type": "surface"
           }
          ],
          "table": [
           {
            "cells": {
             "fill": {
              "color": "#EBF0F8"
             },
             "line": {
              "color": "white"
             }
            },
            "header": {
             "fill": {
              "color": "#C8D4E3"
             },
             "line": {
              "color": "white"
             }
            },
            "type": "table"
           }
          ]
         },
         "layout": {
          "annotationdefaults": {
           "arrowcolor": "#2a3f5f",
           "arrowhead": 0,
           "arrowwidth": 1
          },
          "autotypenumbers": "strict",
          "coloraxis": {
           "colorbar": {
            "outlinewidth": 0,
            "ticks": ""
           }
          },
          "colorscale": {
           "diverging": [
            [
             0,
             "#8e0152"
            ],
            [
             0.1,
             "#c51b7d"
            ],
            [
             0.2,
             "#de77ae"
            ],
            [
             0.3,
             "#f1b6da"
            ],
            [
             0.4,
             "#fde0ef"
            ],
            [
             0.5,
             "#f7f7f7"
            ],
            [
             0.6,
             "#e6f5d0"
            ],
            [
             0.7,
             "#b8e186"
            ],
            [
             0.8,
             "#7fbc41"
            ],
            [
             0.9,
             "#4d9221"
            ],
            [
             1,
             "#276419"
            ]
           ],
           "sequential": [
            [
             0,
             "#0d0887"
            ],
            [
             0.1111111111111111,
             "#46039f"
            ],
            [
             0.2222222222222222,
             "#7201a8"
            ],
            [
             0.3333333333333333,
             "#9c179e"
            ],
            [
             0.4444444444444444,
             "#bd3786"
            ],
            [
             0.5555555555555556,
             "#d8576b"
            ],
            [
             0.6666666666666666,
             "#ed7953"
            ],
            [
             0.7777777777777778,
             "#fb9f3a"
            ],
            [
             0.8888888888888888,
             "#fdca26"
            ],
            [
             1,
             "#f0f921"
            ]
           ],
           "sequentialminus": [
            [
             0,
             "#0d0887"
            ],
            [
             0.1111111111111111,
             "#46039f"
            ],
            [
             0.2222222222222222,
             "#7201a8"
            ],
            [
             0.3333333333333333,
             "#9c179e"
            ],
            [
             0.4444444444444444,
             "#bd3786"
            ],
            [
             0.5555555555555556,
             "#d8576b"
            ],
            [
             0.6666666666666666,
             "#ed7953"
            ],
            [
             0.7777777777777778,
             "#fb9f3a"
            ],
            [
             0.8888888888888888,
             "#fdca26"
            ],
            [
             1,
             "#f0f921"
            ]
           ]
          },
          "colorway": [
           "#636efa",
           "#EF553B",
           "#00cc96",
           "#ab63fa",
           "#FFA15A",
           "#19d3f3",
           "#FF6692",
           "#B6E880",
           "#FF97FF",
           "#FECB52"
          ],
          "font": {
           "color": "#2a3f5f"
          },
          "geo": {
           "bgcolor": "white",
           "lakecolor": "white",
           "landcolor": "white",
           "showlakes": true,
           "showland": true,
           "subunitcolor": "#C8D4E3"
          },
          "hoverlabel": {
           "align": "left"
          },
          "hovermode": "closest",
          "mapbox": {
           "style": "light"
          },
          "paper_bgcolor": "white",
          "plot_bgcolor": "white",
          "polar": {
           "angularaxis": {
            "gridcolor": "#EBF0F8",
            "linecolor": "#EBF0F8",
            "ticks": ""
           },
           "bgcolor": "white",
           "radialaxis": {
            "gridcolor": "#EBF0F8",
            "linecolor": "#EBF0F8",
            "ticks": ""
           }
          },
          "scene": {
           "xaxis": {
            "backgroundcolor": "white",
            "gridcolor": "#DFE8F3",
            "gridwidth": 2,
            "linecolor": "#EBF0F8",
            "showbackground": true,
            "ticks": "",
            "zerolinecolor": "#EBF0F8"
           },
           "yaxis": {
            "backgroundcolor": "white",
            "gridcolor": "#DFE8F3",
            "gridwidth": 2,
            "linecolor": "#EBF0F8",
            "showbackground": true,
            "ticks": "",
            "zerolinecolor": "#EBF0F8"
           },
           "zaxis": {
            "backgroundcolor": "white",
            "gridcolor": "#DFE8F3",
            "gridwidth": 2,
            "linecolor": "#EBF0F8",
            "showbackground": true,
            "ticks": "",
            "zerolinecolor": "#EBF0F8"
           }
          },
          "shapedefaults": {
           "line": {
            "color": "#2a3f5f"
           }
          },
          "ternary": {
           "aaxis": {
            "gridcolor": "#DFE8F3",
            "linecolor": "#A2B1C6",
            "ticks": ""
           },
           "baxis": {
            "gridcolor": "#DFE8F3",
            "linecolor": "#A2B1C6",
            "ticks": ""
           },
           "bgcolor": "white",
           "caxis": {
            "gridcolor": "#DFE8F3",
            "linecolor": "#A2B1C6",
            "ticks": ""
           }
          },
          "title": {
           "x": 0.05
          },
          "xaxis": {
           "automargin": true,
           "gridcolor": "#EBF0F8",
           "linecolor": "#EBF0F8",
           "ticks": "",
           "title": {
            "standoff": 15
           },
           "zerolinecolor": "#EBF0F8",
           "zerolinewidth": 2
          },
          "yaxis": {
           "automargin": true,
           "gridcolor": "#EBF0F8",
           "linecolor": "#EBF0F8",
           "ticks": "",
           "title": {
            "standoff": 15
           },
           "zerolinecolor": "#EBF0F8",
           "zerolinewidth": 2
          }
         }
        },
        "title": {
         "font": {
          "size": 12
         }
        },
        "width": 700,
        "xaxis": {
         "anchor": "y",
         "autorange": false,
         "domain": [
          0,
          1
         ],
         "linewidth": 1.5,
         "mirror": true,
         "range": [
          "2015-01-01",
          "2016-01-20"
         ],
         "showline": true,
         "title": {
          "text": "ds"
         },
         "type": "date"
        },
        "xaxis2": {
         "anchor": "y2",
         "autorange": false,
         "domain": [
          0,
          1
         ],
         "linewidth": 1.5,
         "mirror": true,
         "range": [
          "2014-12-06 09:36",
          "2016-02-14 14:24"
         ],
         "showline": true,
         "title": {
          "text": "Trend segment"
         },
         "type": "date"
        },
        "xaxis3": {
         "anchor": "y3",
         "autorange": false,
         "domain": [
          0,
          1
         ],
         "linewidth": 1.5,
         "mirror": true,
         "range": [
          3.2115384615384612,
          170.21153846153845
         ],
         "showline": true,
         "tickmode": "array",
         "ticktext": [
          "Sunday",
          "Monday",
          "Tuesday",
          "Wednesday",
          "Thursday",
          "Friday",
          "Saturday",
          "Sunday",
          "Sunday"
         ],
         "tickvals": [
          0,
          24,
          48,
          72,
          96,
          120,
          144,
          168,
          192
         ],
         "title": {
          "text": "Day of week"
         },
         "type": "linear"
        },
        "yaxis": {
         "anchor": "x",
         "autorange": false,
         "domain": [
          0.7333333333333333,
          1
         ],
         "linewidth": 1.5,
         "mirror": true,
         "range": [
          1996.3282765616977,
          2703.492031640808
         ],
         "rangemode": "normal",
         "showline": true,
         "title": {
          "text": "Trend"
         },
         "type": "linear"
        },
        "yaxis2": {
         "anchor": "x2",
         "autorange": false,
         "domain": [
          0.36666666666666664,
          0.6333333333333333
         ],
         "linewidth": 1.5,
         "mirror": true,
         "range": [
          -1.0628996822569108,
          1.1830910179350114
         ],
         "rangemode": "normal",
         "showline": true,
         "title": {
          "text": "Trend Rate Change"
         },
         "type": "linear"
        },
        "yaxis3": {
         "anchor": "x3",
         "autorange": false,
         "domain": [
          0,
          0.26666666666666666
         ],
         "linewidth": 1.5,
         "mirror": true,
         "range": [
          -1110.3520794444441,
          599.9535094444444
         ],
         "rangemode": "normal",
         "showline": true,
         "title": {
          "text": "Seasonality: weekly"
         },
         "type": "linear"
        }
       }
      },
      "image/png": "[encoded data removed]",
      "text/html": [
       "<div>                            <div id=\"5cbaa7b0-ca62-4a4d-875d-694fe03ebeac\" class=\"plotly-graph-div\" style=\"height:630px; width:700px;\"></div>            <script type=\"text/javascript\">                require([\"plotly\"], function(Plotly) {                    window.PLOTLYENV=window.PLOTLYENV || {};                                    if (document.getElementById(\"5cbaa7b0-ca62-4a4d-875d-694fe03ebeac\")) {                    Plotly.newPlot(                        \"5cbaa7b0-ca62-4a4d-875d-694fe03ebeac\",                        [{\"fill\":\"none\",\"line\":{\"color\":\"#2d92ff\",\"width\":2},\"mode\":\"lines\",\"name\":\"Trend\",\"x\":[\"2015-01-01T00:00:00\",\"2015-01-02T00:00:00\",\"2015-01-03T00:00:00\",\"2015-01-04T00:00:00\",\"2015-01-05T00:00:00\",\"2015-01-06T00:00:00\",\"2015-01-07T00:00:00\",\"2015-01-08T00:00:00\",\"2015-01-09T00:00:00\",\"2015-01-10T00:00:00\",\"2015-01-11T00:00:00\",\"2015-01-12T00:00:00\",\"2015-01-13T00:00:00\",\"2015-01-14T00:00:00\",\"2015-01-15T00:00:00\",\"2015-01-16T00:00:00\",\"2015-01-17T00:00:00\",\"2015-01-18T00:00:00\",\"2015-01-19T00:00:00\",\"2015-01-20T00:00:00\",\"2015-01-21T00:00:00\",\"2015-01-22T00:00:00\",\"2015-01-23T00:00:00\",\"2015-01-24T00:00:00\",\"2015-01-25T00:00:00\",\"2015-01-26T00:00:00\",\"2015-01-27T00:00:00\",\"2015-01-28T00:00:00\",\"2015-01-29T00:00:00\",\"2015-01-30T00:00:00\",\"2015-01-31T00:00:00\",\"2015-02-01T00:00:00\",\"2015-02-02T00:00:00\",\"2015-02-03T00:00:00\",\"2015-02-04T00:00:00\",\"2015-02-05T00:00:00\",\"2015-02-06T00:00:00\",\"2015-02-07T00:00:00\",\"2015-02-08T00:00:00\",\"2015-02-09T00:00:00\",\"2015-02-10T00:00:00\",\"2015-02-11T00:00:00\",\"2015-02-12T00:00:00\",\"2015-02-13T00:00:00\",\"2015-02-14T00:00:00\",\"2015-02-15T00:00:00\",\"2015-02-16T00:00:00\",\"2015-02-17T00:00:00\",\"2015-02-18T00:00:00\",\"2015-02-19T00:00:00\",\"2015-02-20T00:00:00\",\"2015-02-21T00:00:00\",\"2015-02-22T00:00:00\",\"2015-02-23T00:00:00\",\"2015-02-24T00:00:00\",\"2015-02-25T00:00:00\",\"2015-02-26T00:00:00\",\"2015-02-27T00:00:00\",\"2015-02-28T00:00:00\",\"2015-03-01T00:00:00\",\"2015-03-02T00:00:00\",\"2015-03-03T00:00:00\",\"2015-03-04T00:00:00\",\"2015-03-05T00:00:00\",\"2015-03-06T00:00:00\",\"2015-03-07T00:00:00\",\"2015-03-08T00:00:00\",\"2015-03-09T00:00:00\",\"2015-03-10T00:00:00\",\"2015-03-11T00:00:00\",\"2015-03-12T00:00:00\",\"2015-03-13T00:00:00\",\"2015-03-14T00:00:00\",\"2015-03-15T00:00:00\",\"2015-03-16T00:00:00\",\"2015-03-17T00:00:00\",\"2015-03-18T00:00:00\",\"2015-03-19T00:00:00\",\"2015-03-20T00:00:00\",\"2015-03-21T00:00:00\",\"2015-03-22T00:00:00\",\"2015-03-23T00:00:00\",\"2015-03-24T00:00:00\",\"2015-03-25T00:00:00\",\"2015-03-26T00:00:00\",\"2015-03-27T00:00:00\",\"2015-03-28T00:00:00\",\"2015-03-29T00:00:00\",\"2015-03-30T00:00:00\",\"2015-03-31T00:00:00\",\"2015-04-01T00:00:00\",\"2015-04-02T00:00:00\",\"2015-04-03T00:00:00\",\"2015-04-04T00:00:00\",\"2015-04-05T00:00:00\",\"2015-04-06T00:00:00\",\"2015-04-07T00:00:00\",\"2015-04-08T00:00:00\",\"2015-04-09T00:00:00\",\"2015-04-10T00:00:00\",\"2015-04-11T00:00:00\",\"2015-04-12T00:00:00\",\"2015-04-13T00:00:00\",\"2015-04-14T00:00:00\",\"2015-04-15T00:00:00\",\"2015-04-16T00:00:00\",\"2015-04-17T00:00:00\",\"2015-04-18T00:00:00\",\"2015-04-19T00:00:00\",\"2015-04-20T00:00:00\",\"2015-04-21T00:00:00\",\"2015-04-22T00:00:00\",\"2015-04-23T00:00:00\",\"2015-04-24T00:00:00\",\"2015-04-25T00:00:00\",\"2015-04-26T00:00:00\",\"2015-04-27T00:00:00\",\"2015-04-28T00:00:00\",\"2015-04-29T00:00:00\",\"2015-04-30T00:00:00\",\"2015-05-01T00:00:00\",\"2015-05-02T00:00:00\",\"2015-05-03T00:00:00\",\"2015-05-04T00:00:00\",\"2015-05-05T00:00:00\",\"2015-05-06T00:00:00\",\"2015-05-07T00:00:00\",\"2015-05-08T00:00:00\",\"2015-05-09T00:00:00\",\"2015-05-10T00:00:00\",\"2015-05-11T00:00:00\",\"2015-05-12T00:00:00\",\"2015-05-13T00:00:00\",\"2015-05-14T00:00:00\",\"2015-05-15T00:00:00\",\"2015-05-16T00:00:00\",\"2015-05-17T00:00:00\",\"2015-05-18T00:00:00\",\"2015-05-19T00:00:00\",\"2015-05-20T00:00:00\",\"2015-05-21T00:00:00\",\"2015-05-22T00:00:00\",\"2015-05-23T00:00:00\",\"2015-05-24T00:00:00\",\"2015-05-25T00:00:00\",\"2015-05-26T00:00:00\",\"2015-05-27T00:00:00\",\"2015-05-28T00:00:00\",\"2015-05-29T00:00:00\",\"2015-05-30T00:00:00\",\"2015-05-31T00:00:00\",\"2015-06-01T00:00:00\",\"2015-06-02T00:00:00\",\"2015-06-03T00:00:00\",\"2015-06-04T00:00:00\",\"2015-06-05T00:00:00\",\"2015-06-06T00:00:00\",\"2015-06-07T00:00:00\",\"2015-06-08T00:00:00\",\"2015-06-09T00:00:00\",\"2015-06-10T00:00:00\",\"2015-06-11T00:00:00\",\"2015-06-12T00:00:00\",\"2015-06-13T00:00:00\",\"2015-06-14T00:00:00\",\"2015-06-15T00:00:00\",\"2015-06-16T00:00:00\",\"2015-06-17T00:00:00\",\"2015-06-18T00:00:00\",\"2015-06-19T00:00:00\",\"2015-06-20T00:00:00\",\"2015-06-21T00:00:00\",\"2015-06-22T00:00:00\",\"2015-06-23T00:00:00\",\"2015-06-24T00:00:00\",\"2015-06-25T00:00:00\",\"2015-06-26T00:00:00\",\"2015-06-27T00:00:00\",\"2015-06-28T00:00:00\",\"2015-06-29T00:00:00\",\"2015-06-30T00:00:00\",\"2015-07-01T00:00:00\",\"2015-07-02T00:00:00\",\"2015-07-03T00:00:00\",\"2015-07-04T00:00:00\",\"2015-07-05T00:00:00\",\"2015-07-06T00:00:00\",\"2015-07-07T00:00:00\",\"2015-07-08T00:00:00\",\"2015-07-09T00:00:00\",\"2015-07-10T00:00:00\",\"2015-07-11T00:00:00\",\"2015-07-12T00:00:00\",\"2015-07-13T00:00:00\",\"2015-07-14T00:00:00\",\"2015-07-15T00:00:00\",\"2015-07-16T00:00:00\",\"2015-07-17T00:00:00\",\"2015-07-18T00:00:00\",\"2015-07-19T00:00:00\",\"2015-07-20T00:00:00\",\"2015-07-21T00:00:00\",\"2015-07-22T00:00:00\",\"2015-07-23T00:00:00\",\"2015-07-24T00:00:00\",\"2015-07-25T00:00:00\",\"2015-07-26T00:00:00\",\"2015-07-27T00:00:00\",\"2015-07-28T00:00:00\",\"2015-07-29T00:00:00\",\"2015-07-30T00:00:00\",\"2015-07-31T00:00:00\",\"2015-08-01T00:00:00\",\"2015-08-02T00:00:00\",\"2015-08-03T00:00:00\",\"2015-08-04T00:00:00\",\"2015-08-05T00:00:00\",\"2015-08-06T00:00:00\",\"2015-08-07T00:00:00\",\"2015-08-08T00:00:00\",\"2015-08-09T00:00:00\",\"2015-08-10T00:00:00\",\"2015-08-11T00:00:00\",\"2015-08-12T00:00:00\",\"2015-08-13T00:00:00\",\"2015-08-14T00:00:00\",\"2015-08-15T00:00:00\",\"2015-08-16T00:00:00\",\"2015-08-17T00:00:00\",\"2015-08-18T00:00:00\",\"2015-08-19T00:00:00\",\"2015-08-20T00:00:00\",\"2015-08-21T00:00:00\",\"2015-08-22T00:00:00\",\"2015-08-23T00:00:00\",\"2015-08-24T00:00:00\",\"2015-08-25T00:00:00\",\"2015-08-26T00:00:00\",\"2015-08-27T00:00:00\",\"2015-08-28T00:00:00\",\"2015-08-29T00:00:00\",\"2015-08-30T00:00:00\",\"2015-08-31T00:00:00\",\"2015-09-01T00:00:00\",\"2015-09-02T00:00:00\",\"2015-09-03T00:00:00\",\"2015-09-04T00:00:00\",\"2015-09-05T00:00:00\",\"2015-09-06T00:00:00\",\"2015-09-07T00:00:00\",\"2015-09-08T00:00:00\",\"2015-09-09T00:00:00\",\"2015-09-10T00:00:00\",\"2015-09-11T00:00:00\",\"2015-09-12T00:00:00\",\"2015-09-13T00:00:00\",\"2015-09-14T00:00:00\",\"2015-09-15T00:00:00\",\"2015-09-16T00:00:00\",\"2015-09-17T00:00:00\",\"2015-09-18T00:00:00\",\"2015-09-19T00:00:00\",\"2015-09-20T00:00:00\",\"2015-09-21T00:00:00\",\"2015-09-22T00:00:00\",\"2015-09-23T00:00:00\",\"2015-09-24T00:00:00\",\"2015-09-25T00:00:00\",\"2015-09-26T00:00:00\",\"2015-09-27T00:00:00\",\"2015-09-28T00:00:00\",\"2015-09-29T00:00:00\",\"2015-09-30T00:00:00\",\"2015-10-01T00:00:00\",\"2015-10-02T00:00:00\",\"2015-10-03T00:00:00\",\"2015-10-04T00:00:00\",\"2015-10-05T00:00:00\",\"2015-10-06T00:00:00\",\"2015-10-07T00:00:00\",\"2015-10-08T00:00:00\",\"2015-10-09T00:00:00\",\"2015-10-10T00:00:00\",\"2015-10-11T00:00:00\",\"2015-10-12T00:00:00\",\"2015-10-13T00:00:00\",\"2015-10-14T00:00:00\",\"2015-10-15T00:00:00\",\"2015-10-16T00:00:00\",\"2015-10-17T00:00:00\",\"2015-10-18T00:00:00\",\"2015-10-19T00:00:00\",\"2015-10-20T00:00:00\",\"2015-10-21T00:00:00\",\"2015-10-22T00:00:00\",\"2015-10-23T00:00:00\",\"2015-10-24T00:00:00\",\"2015-10-25T00:00:00\",\"2015-10-26T00:00:00\",\"2015-10-27T00:00:00\",\"2015-10-28T00:00:00\",\"2015-10-29T00:00:00\",\"2015-10-30T00:00:00\",\"2015-10-31T00:00:00\",\"2015-11-01T00:00:00\",\"2015-11-02T00:00:00\",\"2015-11-03T00:00:00\",\"2015-11-04T00:00:00\",\"2015-11-05T00:00:00\",\"2015-11-06T00:00:00\",\"2015-11-07T00:00:00\",\"2015-11-08T00:00:00\",\"2015-11-09T00:00:00\",\"2015-11-10T00:00:00\",\"2015-11-11T00:00:00\",\"2015-11-12T00:00:00\",\"2015-11-13T00:00:00\",\"2015-11-14T00:00:00\",\"2015-11-15T00:00:00\",\"2015-11-16T00:00:00\",\"2015-11-17T00:00:00\",\"2015-11-18T00:00:00\",\"2015-11-19T00:00:00\",\"2015-11-20T00:00:00\",\"2015-11-21T00:00:00\",\"2015-11-22T00:00:00\",\"2015-11-23T00:00:00\",\"2015-11-24T00:00:00\",\"2015-11-25T00:00:00\",\"2015-11-26T00:00:00\",\"2015-11-27T00:00:00\",\"2015-11-28T00:00:00\",\"2015-11-29T00:00:00\",\"2015-11-30T00:00:00\",\"2015-12-01T00:00:00\",\"2015-12-02T00:00:00\",\"2015-12-03T00:00:00\",\"2015-12-04T00:00:00\",\"2015-12-05T00:00:00\",\"2015-12-06T00:00:00\",\"2015-12-07T00:00:00\",\"2015-12-08T00:00:00\",\"2015-12-09T00:00:00\",\"2015-12-10T00:00:00\",\"2015-12-11T00:00:00\",\"2015-12-12T00:00:00\",\"2015-12-13T00:00:00\",\"2015-12-14T00:00:00\",\"2015-12-15T00:00:00\",\"2015-12-16T00:00:00\",\"2015-12-17T00:00:00\",\"2015-12-18T00:00:00\",\"2015-12-19T00:00:00\",\"2015-12-20T00:00:00\",\"2015-12-21T00:00:00\",\"2015-12-22T00:00:00\",\"2015-12-23T00:00:00\",\"2015-12-24T00:00:00\",\"2015-12-25T00:00:00\",\"2015-12-26T00:00:00\",\"2015-12-27T00:00:00\",\"2015-12-28T00:00:00\",\"2015-12-29T00:00:00\",\"2015-12-30T00:00:00\",\"2015-12-31T00:00:00\",\"2016-01-01T00:00:00\",\"2016-01-02T00:00:00\",\"2016-01-03T00:00:00\",\"2016-01-04T00:00:00\",\"2016-01-05T00:00:00\",\"2016-01-06T00:00:00\",\"2016-01-07T00:00:00\",\"2016-01-08T00:00:00\",\"2016-01-09T00:00:00\",\"2016-01-10T00:00:00\",\"2016-01-11T00:00:00\",\"2016-01-12T00:00:00\",\"2016-01-13T00:00:00\",\"2016-01-14T00:00:00\",\"2016-01-15T00:00:00\",\"2016-01-16T00:00:00\",\"2016-01-17T00:00:00\",\"2016-01-18T00:00:00\",\"2016-01-19T00:00:00\",\"2016-01-20T00:00:00\"],\"y\":[2031.6864643156528,2037.6615366254466,2043.6366089352405,2049.6116812450346,2055.586753554828,2061.5618258646223,2067.5368981744164,2073.51197048421,2079.487042794004,2085.4621151037977,2091.437187413592,2097.412259723386,2103.3873320331795,2109.3624043429736,2115.3374766527672,2121.3125489625613,2127.2876212723554,2133.262693582149,2139.237765891943,2145.2128382017368,2151.187910511531,2157.162982821325,2163.1380551311186,2169.1131274409126,2175.0881997507063,2181.0632720605004,2187.0383443702945,2193.013416680088,2198.988488989882,2204.963561299676,2210.93863360947,2216.913705919264,2222.8887782290576,2228.8638505388517,2234.8389228486453,2240.8139951584394,2246.7890674682335,2252.764139778027,2258.739212087821,2264.714284397615,2270.689356707409,2276.664429017203,2282.6395013269967,2288.6145736367907,2294.5896459465844,2300.5647182563785,2306.5397905661725,2312.514862875966,2318.4899351857603,2324.465007495554,2330.440079805348,2336.415152115142,2339.288644002005,2341.3867058105766,2343.484767619148,2345.582829427719,2347.6808912362903,2349.7789530448613,2351.8770148534327,2353.975076662004,2356.073138470575,2358.171200279146,2360.269262087718,2362.367323896289,2364.4653857048597,2366.563447513431,2368.6615093220025,2370.7595711305735,2372.857632939145,2374.9556947477163,2377.053756556287,2379.1518183648586,2381.2498801734296,2383.347941982001,2385.4460037905724,2387.5440655991433,2389.6421274077143,2391.740189216286,2393.838251024857,2395.936312833428,2398.0343746419994,2400.132436450571,2402.2304982591418,2404.328560067713,2406.4266218762846,2408.5246836848555,2410.622745493427,2412.720807301998,2414.8188691105693,2416.9169309191407,2419.0149927277116,2421.1130545362826,2423.2111163448544,2425.3091781534254,2427.4072399619963,2429.5053017705677,2431.603363579139,2433.70142538771,2435.799487196281,2437.8975490048524,2439.9956108134243,2442.0936726219948,2444.191734430566,2441.5091392613945,2435.639240929484,2429.769342597574,2423.8994442656635,2418.029545933753,2412.1596476018426,2406.2897492699326,2400.419850938022,2394.5499526061117,2388.680054274201,2382.8101559422907,2376.9402576103807,2371.0703592784703,2365.20046094656,2359.3305626146494,2353.460664282739,2347.590765950829,2341.7208676189184,2335.850969287008,2329.9810709550975,2324.111172623187,2318.241274291277,2312.3713759593666,2306.501477627456,2300.6315792955456,2294.761680963635,2288.891782631725,2283.0218842998147,2277.1519859679042,2271.282087635994,2265.4121893040833,2259.5422909721733,2253.672392640263,2247.8024943083524,2241.932595976442,2236.0626976445315,2230.1927993126214,2224.322900980711,2218.4530026488005,2212.58310431689,2206.7132059849796,2200.8433076530696,2194.973409321159,2189.1035109892487,2183.233612657338,2177.3637143254277,2171.4938159935177,2165.6239176616073,2159.754019329697,2153.8841209977863,2148.014222665876,2143.9439228242727,2142.572948774579,2141.201974724885,2139.8310006751913,2138.460026625497,2137.089052575803,2135.7180785261094,2134.347104476415,2132.9761304267217,2131.605156377028,2130.2341823273337,2128.86320827764,2127.492234227946,2126.1212601782518,2124.750286128558,2123.379312078864,2122.0083380291703,2120.6373639794765,2119.2663899297827,2117.8954158800884,2116.5244418303946,2115.153467780701,2113.7824937310065,2112.411519681313,2111.0405456316194,2109.669571581925,2108.2985975322313,2106.9276234825375,2105.556649432843,2104.1856753831494,2102.8147013334556,2101.4437272837617,2100.072753234068,2098.701779184374,2097.33080513468,2095.959831084986,2094.588857035292,2093.217882985598,2091.8469089359046,2090.475934886211,2089.1049608365165,2087.7339867868227,2086.363012737129,2084.9920386874346,2083.621064637741,2082.250090588047,2080.879116538353,2079.5081424886594,2078.1371684389655,2076.7661943892713,2075.3952203395775,2075.457470496557,2081.2536246899517,2087.0497788833454,2092.845933076739,2098.6420872701333,2104.438241463527,2110.2343956569207,2116.030549850315,2121.8267040437086,2127.6228582371023,2133.4190124304964,2139.21516662389,2145.011320817284,2150.8074750106784,2156.603629204072,2162.3997833974654,2168.19593759086,2173.9920917842537,2179.7882459776474,2185.5844001710416,2191.3805543644353,2197.176708557829,2202.972862751223,2208.769016944617,2214.5651711380106,2220.3613253314047,2226.1574795247984,2231.953633718192,2237.7497879115867,2243.5459421049804,2249.3420962983737,2255.1382504917683,2260.934404685162,2266.7305588785557,2272.52671307195,2278.3228672653436,2284.1190214587373,2289.9151756521314,2295.711329845525,2301.507484038919,2307.303638232313,2313.0997924257067,2318.8959466191004,2324.692100812495,2330.4882550058887,2336.284409199282,2342.0805633926766,2347.8767175860703,2353.672871779464,2359.469025972858,2365.265180166252,2371.0613343596456,2373.382340240758,2375.7032182222233,2378.0240962036883,2380.3449741851537,2382.665852166619,2384.9867301480845,2387.30760812955,2389.628486111015,2391.94936409248,2394.2702420739456,2396.591120055411,2398.9119980368764,2401.2328760183414,2403.5537539998068,2405.874631981272,2408.1955099627376,2410.516387944203,2412.837265925668,2415.1581439071333,2417.4790218885987,2419.799899870064,2422.120777851529,2424.4416558329945,2426.76253381446,2429.0834117959253,2431.4042897773907,2433.7251677588556,2436.046045740321,2438.3669237217864,2440.687801703252,2443.008679684717,2445.329557666182,2447.6504356476476,2449.971313629113,2452.2921916105784,2454.6130695920438,2456.9339475735087,2459.254825554974,2461.5757035364395,2463.896581517905,2466.2174594993703,2468.5383374808353,2470.8592154623007,2473.180093443766,2475.5009714252315,2477.821849406697,2480.142727388162,2482.463605369627,2484.7844833510926,2487.105361332558,2489.4262393140234,2491.7471172954884,2494.0679952769538,2496.388873258419,2498.7097512398846,2501.03062922135,2503.351507202815,2505.6723851842803,2507.9932631657457,2510.314141147211,2512.6350191286765,2514.9558971101414,2517.276775091607,2519.5976530730723,2521.9185310545377,2524.239409036003,2526.560287017468,2528.8811649989334,2531.202042980399,2533.522920961864,2535.8437989433296,2538.1646769247945,2540.48555490626,2542.8064328877254,2545.1273108691908,2547.448188850656,2549.769066832121,2552.0899448135865,2554.410822795052,2556.7317007765173,2559.0525787579827,2561.3734567394476,2563.694334720913,2566.0152127023784,2568.336090683844,2570.6569686653093,2572.977846646774,2575.2987246282396,2577.619602609705,2579.9404805911704,2582.261358572636,2584.5822365541007,2586.903114535566,2589.2239925170315,2591.544870498497,2593.8657484799623,2596.1866264614273,2598.5075044428927,2600.828382424358,2603.1492604058235,2605.470138387289,2607.791016368754,2610.1118943502192,2612.4327723316846,2614.75365031315,2617.0745282946154,2619.3954062760804,2621.716284257546,2624.037162239011,2626.3580402204766,2628.678918201942,2630.999796183407,2633.3206741648723,2635.6415521463377,2637.962430127803,2640.2833081092685,2642.6041860907335,2644.925064072199,2647.2459420536643,2649.5668200351297,2651.887698016595,2654.20857599806,2656.5294539795254,2658.850331960991,2661.1712099424562,2663.4920879239216,2665.8129659053866,2668.133843886852],\"type\":\"scatter\",\"xaxis\":\"x\",\"yaxis\":\"y\"},{\"marker\":{\"color\":\"#2d92ff\"},\"name\":\"Trend Rate Change\",\"x\":[\"2015-01-01T00:00:00\",\"2015-02-21T04:48:00\",\"2015-04-13T09:36:00\",\"2015-06-03T14:24:00\",\"2015-07-24T19:12:00\",\"2015-09-14T00:00:00\",\"2016-01-20T00:00:00\"],\"y\":[1.070791482925415,-0.46253833174705505,-0.9506001472473145,0.5367343425750732,0.8550586700439453,-0.41461026668548584,0.0],\"type\":\"bar\",\"xaxis\":\"x2\",\"yaxis\":\"y2\"},{\"fill\":\"none\",\"line\":{\"color\":\"#2d92ff\",\"width\":2},\"mode\":\"lines\",\"name\":\"weekly\",\"x\":[0,1,2,3,4,5,6,7,8,9,10,11,12,13,14,15,16,17,18,19,20,21,22,23,24,25,26,27,28,29,30,31,32,33,34,35,36,37,38,39,40,41,42,43,44,45,46,47,48,49,50,51,52,53,54,55,56,57,58,59,60,61,62,63,64,65,66,67,68,69,70,71,72,73,74,75,76,77,78,79,80,81,82,83,84,85,86,87,88,89,90,91,92,93,94,95,96,97,98,99,100,101,102,103,104,105,106,107,108,109,110,111,112,113,114,115,116,117,118,119,120,121,122,123,124,125,126,127,128,129,130,131,132,133,134,135,136,137,138,139,140,141,142,143,144,145,146,147,148,149,150,151,152,153,154,155,156,157,158,159,160,161,162,163,164,165,166,167],\"y\":[-717.32294,-675.08966,-631.4588,-583.7773,-536.75183,-489.37686,-441.25974,-392.63937,-341.04156,-293.24942,-244.5629,-196.29985,-147.2348,-98.00939,-53.507793,-9.089486,33.957794,76.53706,115.21592,153.2413,191.20068,225.4772,258.22153,287.11993,315.09775,341.00586,364.04474,386.82593,406.24393,424.36075,440.17462,453.58942,466.32648,476.59106,485.6213,493.20633,499.19266,504.33517,507.99503,510.88696,512.8844,513.9716,514.43823,514.43713,513.923,512.9865,511.65414,510.43997,508.82538,507.22668,505.4139,503.5526,501.69537,499.82498,498.24692,496.39984,494.93628,493.47443,491.70572,490.51602,488.13065,486.5789,484.88354,482.76492,481.00974,478.05722,475.6188,472.9007,469.674,466.51266,462.54758,458.36066,453.967,449.21005,444.1876,438.6816,432.85825,426.43814,420.13315,413.39847,406.59848,399.37665,392.24112,384.6704,376.75876,369.06097,361.62192,354.19522,346.4586,338.6001,331.67313,324.26428,317.25052,309.8932,302.69662,296.26633,289.5572,283.16913,276.66208,269.89703,263.27316,256.70825,250.17699,243.29036,235.6896,227.84373,219.80385,211.41391,202.02626,191.40851,180.02754,168.23544,155.69469,141.47232,125.99966,109.22974,90.26861,71.397514,50.123627,27.492561,3.3302445,-21.50176,-48.505707,-78.72544,-109.06451,-141.6614,-173.89165,-208.3003,-245.88638,-282.71994,-319.5289,-358.10767,-398.5239,-440.45627,-480.5185,-519.76587,-559.82184,-600.9239,-640.4099,-678.0869,-715.60034,-753.6359,-789.73346,-823.157,-853.8229,-883.0273,-909.9591,-935.79535,-958.68646,-977.4144,-992.96936,-1005.73083,-1015.7086,-1021.8857,-1024.8368,-1024.2501,-1020.0358,-1012.2173,-1001.1226,-986.9255,-969.29614,-947.0726,-922.6258,-895.9296,-864.6945,-832.03937,-794.5357,-756.34283],\"type\":\"scatter\",\"xaxis\":\"x3\",\"yaxis\":\"y3\"}],                        {\"template\":{\"data\":{\"histogram2dcontour\":[{\"type\":\"histogram2dcontour\",\"colorbar\":{\"outlinewidth\":0,\"ticks\":\"\"},\"colorscale\":[[0.0,\"#0d0887\"],[0.1111111111111111,\"#46039f\"],[0.2222222222222222,\"#7201a8\"],[0.3333333333333333,\"#9c179e\"],[0.4444444444444444,\"#bd3786\"],[0.5555555555555556,\"#d8576b\"],[0.6666666666666666,\"#ed7953\"],[0.7777777777777778,\"#fb9f3a\"],[0.8888888888888888,\"#fdca26\"],[1.0,\"#f0f921\"]]}],\"choropleth\":[{\"type\":\"choropleth\",\"colorbar\":{\"outlinewidth\":0,\"ticks\":\"\"}}],\"histogram2d\":[{\"type\":\"histogram2d\",\"colorbar\":{\"outlinewidth\":0,\"ticks\":\"\"},\"colorscale\":[[0.0,\"#0d0887\"],[0.1111111111111111,\"#46039f\"],[0.2222222222222222,\"#7201a8\"],[0.3333333333333333,\"#9c179e\"],[0.4444444444444444,\"#bd3786\"],[0.5555555555555556,\"#d8576b\"],[0.6666666666666666,\"#ed7953\"],[0.7777777777777778,\"#fb9f3a\"],[0.8888888888888888,\"#fdca26\"],[1.0,\"#f0f921\"]]}],\"heatmap\":[{\"type\":\"heatmap\",\"colorbar\":{\"outlinewidth\":0,\"ticks\":\"\"},\"colorscale\":[[0.0,\"#0d0887\"],[0.1111111111111111,\"#46039f\"],[0.2222222222222222,\"#7201a8\"],[0.3333333333333333,\"#9c179e\"],[0.4444444444444444,\"#bd3786\"],[0.5555555555555556,\"#d8576b\"],[0.6666666666666666,\"#ed7953\"],[0.7777777777777778,\"#fb9f3a\"],[0.8888888888888888,\"#fdca26\"],[1.0,\"#f0f921\"]]}],\"heatmapgl\":[{\"type\":\"heatmapgl\",\"colorbar\":{\"outlinewidth\":0,\"ticks\":\"\"},\"colorscale\":[[0.0,\"#0d0887\"],[0.1111111111111111,\"#46039f\"],[0.2222222222222222,\"#7201a8\"],[0.3333333333333333,\"#9c179e\"],[0.4444444444444444,\"#bd3786\"],[0.5555555555555556,\"#d8576b\"],[0.6666666666666666,\"#ed7953\"],[0.7777777777777778,\"#fb9f3a\"],[0.8888888888888888,\"#fdca26\"],[1.0,\"#f0f921\"]]}],\"contourcarpet\":[{\"type\":\"contourcarpet\",\"colorbar\":{\"outlinewidth\":0,\"ticks\":\"\"}}],\"contour\":[{\"type\":\"contour\",\"colorbar\":{\"outlinewidth\":0,\"ticks\":\"\"},\"colorscale\":[[0.0,\"#0d0887\"],[0.1111111111111111,\"#46039f\"],[0.2222222222222222,\"#7201a8\"],[0.3333333333333333,\"#9c179e\"],[0.4444444444444444,\"#bd3786\"],[0.5555555555555556,\"#d8576b\"],[0.6666666666666666,\"#ed7953\"],[0.7777777777777778,\"#fb9f3a\"],[0.8888888888888888,\"#fdca26\"],[1.0,\"#f0f921\"]]}],\"surface\":[{\"type\":\"surface\",\"colorbar\":{\"outlinewidth\":0,\"ticks\":\"\"},\"colorscale\":[[0.0,\"#0d0887\"],[0.1111111111111111,\"#46039f\"],[0.2222222222222222,\"#7201a8\"],[0.3333333333333333,\"#9c179e\"],[0.4444444444444444,\"#bd3786\"],[0.5555555555555556,\"#d8576b\"],[0.6666666666666666,\"#ed7953\"],[0.7777777777777778,\"#fb9f3a\"],[0.8888888888888888,\"#fdca26\"],[1.0,\"#f0f921\"]]}],\"mesh3d\":[{\"type\":\"mesh3d\",\"colorbar\":{\"outlinewidth\":0,\"ticks\":\"\"}}],\"scatter\":[{\"fillpattern\":{\"fillmode\":\"overlay\",\"size\":10,\"solidity\":0.2},\"type\":\"scatter\"}],\"parcoords\":[{\"type\":\"parcoords\",\"line\":{\"colorbar\":{\"outlinewidth\":0,\"ticks\":\"\"}}}],\"scatterpolargl\":[{\"type\":\"scatterpolargl\",\"marker\":{\"colorbar\":{\"outlinewidth\":0,\"ticks\":\"\"}}}],\"bar\":[{\"error_x\":{\"color\":\"#2a3f5f\"},\"error_y\":{\"color\":\"#2a3f5f\"},\"marker\":{\"line\":{\"color\":\"white\",\"width\":0.5},\"pattern\":{\"fillmode\":\"overlay\",\"size\":10,\"solidity\":0.2}},\"type\":\"bar\"}],\"scattergeo\":[{\"type\":\"scattergeo\",\"marker\":{\"colorbar\":{\"outlinewidth\":0,\"ticks\":\"\"}}}],\"scatterpolar\":[{\"type\":\"scatterpolar\",\"marker\":{\"colorbar\":{\"outlinewidth\":0,\"ticks\":\"\"}}}],\"histogram\":[{\"marker\":{\"pattern\":{\"fillmode\":\"overlay\",\"size\":10,\"solidity\":0.2}},\"type\":\"histogram\"}],\"scattergl\":[{\"type\":\"scattergl\",\"marker\":{\"colorbar\":{\"outlinewidth\":0,\"ticks\":\"\"}}}],\"scatter3d\":[{\"type\":\"scatter3d\",\"line\":{\"colorbar\":{\"outlinewidth\":0,\"ticks\":\"\"}},\"marker\":{\"colorbar\":{\"outlinewidth\":0,\"ticks\":\"\"}}}],\"scattermapbox\":[{\"type\":\"scattermapbox\",\"marker\":{\"colorbar\":{\"outlinewidth\":0,\"ticks\":\"\"}}}],\"scatterternary\":[{\"type\":\"scatterternary\",\"marker\":{\"colorbar\":{\"outlinewidth\":0,\"ticks\":\"\"}}}],\"scattercarpet\":[{\"type\":\"scattercarpet\",\"marker\":{\"colorbar\":{\"outlinewidth\":0,\"ticks\":\"\"}}}],\"carpet\":[{\"aaxis\":{\"endlinecolor\":\"#2a3f5f\",\"gridcolor\":\"#C8D4E3\",\"linecolor\":\"#C8D4E3\",\"minorgridcolor\":\"#C8D4E3\",\"startlinecolor\":\"#2a3f5f\"},\"baxis\":{\"endlinecolor\":\"#2a3f5f\",\"gridcolor\":\"#C8D4E3\",\"linecolor\":\"#C8D4E3\",\"minorgridcolor\":\"#C8D4E3\",\"startlinecolor\":\"#2a3f5f\"},\"type\":\"carpet\"}],\"table\":[{\"cells\":{\"fill\":{\"color\":\"#EBF0F8\"},\"line\":{\"color\":\"white\"}},\"header\":{\"fill\":{\"color\":\"#C8D4E3\"},\"line\":{\"color\":\"white\"}},\"type\":\"table\"}],\"barpolar\":[{\"marker\":{\"line\":{\"color\":\"white\",\"width\":0.5},\"pattern\":{\"fillmode\":\"overlay\",\"size\":10,\"solidity\":0.2}},\"type\":\"barpolar\"}],\"pie\":[{\"automargin\":true,\"type\":\"pie\"}]},\"layout\":{\"autotypenumbers\":\"strict\",\"colorway\":[\"#636efa\",\"#EF553B\",\"#00cc96\",\"#ab63fa\",\"#FFA15A\",\"#19d3f3\",\"#FF6692\",\"#B6E880\",\"#FF97FF\",\"#FECB52\"],\"font\":{\"color\":\"#2a3f5f\"},\"hovermode\":\"closest\",\"hoverlabel\":{\"align\":\"left\"},\"paper_bgcolor\":\"white\",\"plot_bgcolor\":\"white\",\"polar\":{\"bgcolor\":\"white\",\"angularaxis\":{\"gridcolor\":\"#EBF0F8\",\"linecolor\":\"#EBF0F8\",\"ticks\":\"\"},\"radialaxis\":{\"gridcolor\":\"#EBF0F8\",\"linecolor\":\"#EBF0F8\",\"ticks\":\"\"}},\"ternary\":{\"bgcolor\":\"white\",\"aaxis\":{\"gridcolor\":\"#DFE8F3\",\"linecolor\":\"#A2B1C6\",\"ticks\":\"\"},\"baxis\":{\"gridcolor\":\"#DFE8F3\",\"linecolor\":\"#A2B1C6\",\"ticks\":\"\"},\"caxis\":{\"gridcolor\":\"#DFE8F3\",\"linecolor\":\"#A2B1C6\",\"ticks\":\"\"}},\"coloraxis\":{\"colorbar\":{\"outlinewidth\":0,\"ticks\":\"\"}},\"colorscale\":{\"sequential\":[[0.0,\"#0d0887\"],[0.1111111111111111,\"#46039f\"],[0.2222222222222222,\"#7201a8\"],[0.3333333333333333,\"#9c179e\"],[0.4444444444444444,\"#bd3786\"],[0.5555555555555556,\"#d8576b\"],[0.6666666666666666,\"#ed7953\"],[0.7777777777777778,\"#fb9f3a\"],[0.8888888888888888,\"#fdca26\"],[1.0,\"#f0f921\"]],\"sequentialminus\":[[0.0,\"#0d0887\"],[0.1111111111111111,\"#46039f\"],[0.2222222222222222,\"#7201a8\"],[0.3333333333333333,\"#9c179e\"],[0.4444444444444444,\"#bd3786\"],[0.5555555555555556,\"#d8576b\"],[0.6666666666666666,\"#ed7953\"],[0.7777777777777778,\"#fb9f3a\"],[0.8888888888888888,\"#fdca26\"],[1.0,\"#f0f921\"]],\"diverging\":[[0,\"#8e0152\"],[0.1,\"#c51b7d\"],[0.2,\"#de77ae\"],[0.3,\"#f1b6da\"],[0.4,\"#fde0ef\"],[0.5,\"#f7f7f7\"],[0.6,\"#e6f5d0\"],[0.7,\"#b8e186\"],[0.8,\"#7fbc41\"],[0.9,\"#4d9221\"],[1,\"#276419\"]]},\"xaxis\":{\"gridcolor\":\"#EBF0F8\",\"linecolor\":\"#EBF0F8\",\"ticks\":\"\",\"title\":{\"standoff\":15},\"zerolinecolor\":\"#EBF0F8\",\"automargin\":true,\"zerolinewidth\":2},\"yaxis\":{\"gridcolor\":\"#EBF0F8\",\"linecolor\":\"#EBF0F8\",\"ticks\":\"\",\"title\":{\"standoff\":15},\"zerolinecolor\":\"#EBF0F8\",\"automargin\":true,\"zerolinewidth\":2},\"scene\":{\"xaxis\":{\"backgroundcolor\":\"white\",\"gridcolor\":\"#DFE8F3\",\"linecolor\":\"#EBF0F8\",\"showbackground\":true,\"ticks\":\"\",\"zerolinecolor\":\"#EBF0F8\",\"gridwidth\":2},\"yaxis\":{\"backgroundcolor\":\"white\",\"gridcolor\":\"#DFE8F3\",\"linecolor\":\"#EBF0F8\",\"showbackground\":true,\"ticks\":\"\",\"zerolinecolor\":\"#EBF0F8\",\"gridwidth\":2},\"zaxis\":{\"backgroundcolor\":\"white\",\"gridcolor\":\"#DFE8F3\",\"linecolor\":\"#EBF0F8\",\"showbackground\":true,\"ticks\":\"\",\"zerolinecolor\":\"#EBF0F8\",\"gridwidth\":2}},\"shapedefaults\":{\"line\":{\"color\":\"#2a3f5f\"}},\"annotationdefaults\":{\"arrowcolor\":\"#2a3f5f\",\"arrowhead\":0,\"arrowwidth\":1},\"geo\":{\"bgcolor\":\"white\",\"landcolor\":\"white\",\"subunitcolor\":\"#C8D4E3\",\"showland\":true,\"showlakes\":true,\"lakecolor\":\"white\"},\"title\":{\"x\":0.05},\"mapbox\":{\"style\":\"light\"}}},\"xaxis\":{\"anchor\":\"y\",\"domain\":[0.0,1.0],\"title\":{\"text\":\"ds\"},\"range\":[\"2014-12-13T00:00:00\",\"2016-02-08T00:00:00\"],\"type\":\"date\",\"showline\":true,\"mirror\":true,\"linewidth\":1.5},\"yaxis\":{\"anchor\":\"x\",\"domain\":[0.7333333333333333,1.0],\"title\":{\"text\":\"Trend\"},\"rangemode\":\"normal\",\"showline\":true,\"mirror\":true,\"linewidth\":1.5},\"xaxis2\":{\"anchor\":\"y2\",\"domain\":[0.0,1.0],\"title\":{\"text\":\"Trend segment\"},\"range\":[\"2015-01-01T00:00:00\",\"2016-01-20T00:00:00\"],\"type\":\"date\",\"showline\":true,\"mirror\":true,\"linewidth\":1.5},\"yaxis2\":{\"anchor\":\"x2\",\"domain\":[0.36666666666666664,0.6333333333333333],\"title\":{\"text\":\"Trend Rate Change\"},\"rangemode\":\"normal\",\"showline\":true,\"mirror\":true,\"linewidth\":1.5},\"xaxis3\":{\"anchor\":\"y3\",\"domain\":[0.0,1.0],\"title\":{\"text\":\"Day of week\"},\"range\":[-8,175],\"tickmode\":\"array\",\"ticktext\":[\"Sunday\",\"Monday\",\"Tuesday\",\"Wednesday\",\"Thursday\",\"Friday\",\"Saturday\",\"Sunday\",\"Sunday\"],\"tickvals\":[0,24,48,72,96,120,144,168,192],\"showline\":true,\"mirror\":true,\"linewidth\":1.5},\"yaxis3\":{\"anchor\":\"x3\",\"domain\":[0.0,0.26666666666666666],\"title\":{\"text\":\"Seasonality: weekly\"},\"rangemode\":\"normal\",\"showline\":true,\"mirror\":true,\"linewidth\":1.5},\"font\":{\"size\":10},\"margin\":{\"b\":0,\"l\":0,\"pad\":0,\"r\":10,\"t\":10},\"title\":{\"font\":{\"size\":12}},\"autosize\":true,\"height\":630,\"hovermode\":\"x unified\",\"showlegend\":false,\"width\":700},                        {\"responsive\": true}                    ).then(function(){\n",
       "                            \n",
       "var gd = document.getElementById('5cbaa7b0-ca62-4a4d-875d-694fe03ebeac');\n",
       "var x = new MutationObserver(function (mutations, observer) {{\n",
       "        var display = window.getComputedStyle(gd).display;\n",
       "        if (!display || display === 'none') {{\n",
       "            console.log([gd, 'removed!']);\n",
       "            Plotly.purge(gd);\n",
       "            observer.disconnect();\n",
       "        }}\n",
       "}});\n",
       "\n",
       "// Listen for the removal of the full notebook cells\n",
       "var notebookContainer = gd.closest('#notebook-container');\n",
       "if (notebookContainer) {{\n",
       "    x.observe(notebookContainer, {childList: true});\n",
       "}}\n",
       "\n",
       "// Listen for the clearing of the current output cell\n",
       "var outputEl = gd.closest('.output');\n",
       "if (outputEl) {{\n",
       "    x.observe(outputEl, {childList: true});\n",
       "}}\n",
       "\n",
       "                        })                };                });            </script>        </div>"
      ]
     },
     "metadata": {},
     "output_type": "display_data"
    }
   ],
   "source": [
    "model.plot_parameters()"
   ]
  },
  {
   "cell_type": "code",
   "execution_count": null,
   "id": "c9676462-f3e8-49cd-b221-e9ce9f571077",
   "metadata": {},
   "outputs": [],
   "source": []
  }
 ],
 "metadata": {
  "kernelspec": {
   "display_name": "Python 3 (ipykernel)",
   "language": "python",
   "name": "python3"
  },
  "language_info": {
   "codemirror_mode": {
    "name": "ipython",
    "version": 3
   },
   "file_extension": ".py",
   "mimetype": "text/x-python",
   "name": "python",
   "nbconvert_exporter": "python",
   "pygments_lexer": "ipython3",
   "version": "3.12.4"
  }
 },
 "nbformat": 4,
 "nbformat_minor": 5
}
